{
 "cells": [
  {
   "cell_type": "code",
   "execution_count": 151,
   "metadata": {
    "collapsed": true
   },
   "outputs": [],
   "source": [
    "import numpy as np\n",
    "import matplotlib.pyplot as plt\n",
    "import pandas as pd\n",
    "import sklearn.cluster\n",
    "import seaborn as sb\n",
    "from sklearn.cluster import KMeans\n",
    "from sklearn.metrics import davies_bouldin_score\n",
    "from sklearn.preprocessing import StandardScaler\n",
    "import random"
   ]
  },
  {
   "cell_type": "code",
   "execution_count": 29,
   "outputs": [],
   "source": [
    "data = pd.read_csv('menu.csv')"
   ],
   "metadata": {
    "collapsed": false,
    "pycharm": {
     "name": "#%%\n"
    }
   }
  },
  {
   "cell_type": "code",
   "execution_count": 30,
   "outputs": [
    {
     "name": "stdout",
     "output_type": "stream",
     "text": [
      "0       4.8 oz (136 g)\n",
      "1       4.8 oz (135 g)\n",
      "2       3.9 oz (111 g)\n",
      "3       5.7 oz (161 g)\n",
      "4       5.7 oz (161 g)\n",
      "            ...       \n",
      "255    10.1 oz (285 g)\n",
      "256    13.4 oz (381 g)\n",
      "257     6.7 oz (190 g)\n",
      "258    14.2 oz (403 g)\n",
      "259     7.1 oz (202 g)\n",
      "Name: Serving Size, Length: 260, dtype: object\n"
     ]
    }
   ],
   "source": [
    "print(data['Serving Size'])"
   ],
   "metadata": {
    "collapsed": false,
    "pycharm": {
     "name": "#%%\n"
    }
   }
  },
  {
   "cell_type": "markdown",
   "source": [
    "Nie powinny wchodzić w skład wektora cech:\n",
    "* category (z nimi będziemy porównywać)\n",
    "* item (nazwy nie da się interpretować)\n",
    "* serving size (różne jednostki - gramatura, objętość)"
   ],
   "metadata": {
    "collapsed": false,
    "pycharm": {
     "name": "#%% md\n"
    }
   }
  },
  {
   "cell_type": "code",
   "execution_count": 39,
   "outputs": [
    {
     "data": {
      "text/plain": "          Calories  Calories from Fat   Total Fat  Total Fat (% Daily Value)  \\\ncount   260.000000         260.000000  260.000000                 260.000000   \nmean    368.269231         127.096154   14.165385                  21.815385   \nstd     240.269886         127.875914   14.205998                  21.885199   \nmin       0.000000           0.000000    0.000000                   0.000000   \n25%     210.000000          20.000000    2.375000                   3.750000   \n50%     340.000000         100.000000   11.000000                  17.000000   \n75%     500.000000         200.000000   22.250000                  35.000000   \nmax    1880.000000        1060.000000  118.000000                 182.000000   \n\n       Saturated Fat  Saturated Fat (% Daily Value)   Trans Fat  Cholesterol  \\\ncount     260.000000                     260.000000  260.000000   260.000000   \nmean        6.007692                      29.965385    0.203846    54.942308   \nstd         5.321873                      26.639209    0.429133    87.269257   \nmin         0.000000                       0.000000    0.000000     0.000000   \n25%         1.000000                       4.750000    0.000000     5.000000   \n50%         5.000000                      24.000000    0.000000    35.000000   \n75%        10.000000                      48.000000    0.000000    65.000000   \nmax        20.000000                     102.000000    2.500000   575.000000   \n\n       Cholesterol (% Daily Value)       Sodium  ...  Carbohydrates  \\\ncount                   260.000000   260.000000  ...     260.000000   \nmean                     18.392308   495.750000  ...      47.346154   \nstd                      29.091653   577.026323  ...      28.252232   \nmin                       0.000000     0.000000  ...       0.000000   \n25%                       2.000000   107.500000  ...      30.000000   \n50%                      11.000000   190.000000  ...      44.000000   \n75%                      21.250000   865.000000  ...      60.000000   \nmax                     192.000000  3600.000000  ...     141.000000   \n\n       Carbohydrates (% Daily Value)  Dietary Fiber  \\\ncount                     260.000000     260.000000   \nmean                       15.780769       1.630769   \nstd                         9.419544       1.567717   \nmin                         0.000000       0.000000   \n25%                        10.000000       0.000000   \n50%                        15.000000       1.000000   \n75%                        20.000000       3.000000   \nmax                        47.000000       7.000000   \n\n       Dietary Fiber (% Daily Value)      Sugars     Protein  \\\ncount                     260.000000  260.000000  260.000000   \nmean                        6.530769   29.423077   13.338462   \nstd                         6.307057   28.679797   11.426146   \nmin                         0.000000    0.000000    0.000000   \n25%                         0.000000    5.750000    4.000000   \n50%                         5.000000   17.500000   12.000000   \n75%                        10.000000   48.000000   19.000000   \nmax                        28.000000  128.000000   87.000000   \n\n       Vitamin A (% Daily Value)  Vitamin C (% Daily Value)  \\\ncount                 260.000000                 260.000000   \nmean                   13.426923                   8.534615   \nstd                    24.366381                  26.345542   \nmin                     0.000000                   0.000000   \n25%                     2.000000                   0.000000   \n50%                     8.000000                   0.000000   \n75%                    15.000000                   4.000000   \nmax                   170.000000                 240.000000   \n\n       Calcium (% Daily Value)  Iron (% Daily Value)  \ncount               260.000000            260.000000  \nmean                 20.973077              7.734615  \nstd                  17.019953              8.723263  \nmin                   0.000000              0.000000  \n25%                   6.000000              0.000000  \n50%                  20.000000              4.000000  \n75%                  30.000000             15.000000  \nmax                  70.000000             40.000000  \n\n[8 rows x 21 columns]",
      "text/html": "<div>\n<style scoped>\n    .dataframe tbody tr th:only-of-type {\n        vertical-align: middle;\n    }\n\n    .dataframe tbody tr th {\n        vertical-align: top;\n    }\n\n    .dataframe thead th {\n        text-align: right;\n    }\n</style>\n<table border=\"1\" class=\"dataframe\">\n  <thead>\n    <tr style=\"text-align: right;\">\n      <th></th>\n      <th>Calories</th>\n      <th>Calories from Fat</th>\n      <th>Total Fat</th>\n      <th>Total Fat (% Daily Value)</th>\n      <th>Saturated Fat</th>\n      <th>Saturated Fat (% Daily Value)</th>\n      <th>Trans Fat</th>\n      <th>Cholesterol</th>\n      <th>Cholesterol (% Daily Value)</th>\n      <th>Sodium</th>\n      <th>...</th>\n      <th>Carbohydrates</th>\n      <th>Carbohydrates (% Daily Value)</th>\n      <th>Dietary Fiber</th>\n      <th>Dietary Fiber (% Daily Value)</th>\n      <th>Sugars</th>\n      <th>Protein</th>\n      <th>Vitamin A (% Daily Value)</th>\n      <th>Vitamin C (% Daily Value)</th>\n      <th>Calcium (% Daily Value)</th>\n      <th>Iron (% Daily Value)</th>\n    </tr>\n  </thead>\n  <tbody>\n    <tr>\n      <th>count</th>\n      <td>260.000000</td>\n      <td>260.000000</td>\n      <td>260.000000</td>\n      <td>260.000000</td>\n      <td>260.000000</td>\n      <td>260.000000</td>\n      <td>260.000000</td>\n      <td>260.000000</td>\n      <td>260.000000</td>\n      <td>260.000000</td>\n      <td>...</td>\n      <td>260.000000</td>\n      <td>260.000000</td>\n      <td>260.000000</td>\n      <td>260.000000</td>\n      <td>260.000000</td>\n      <td>260.000000</td>\n      <td>260.000000</td>\n      <td>260.000000</td>\n      <td>260.000000</td>\n      <td>260.000000</td>\n    </tr>\n    <tr>\n      <th>mean</th>\n      <td>368.269231</td>\n      <td>127.096154</td>\n      <td>14.165385</td>\n      <td>21.815385</td>\n      <td>6.007692</td>\n      <td>29.965385</td>\n      <td>0.203846</td>\n      <td>54.942308</td>\n      <td>18.392308</td>\n      <td>495.750000</td>\n      <td>...</td>\n      <td>47.346154</td>\n      <td>15.780769</td>\n      <td>1.630769</td>\n      <td>6.530769</td>\n      <td>29.423077</td>\n      <td>13.338462</td>\n      <td>13.426923</td>\n      <td>8.534615</td>\n      <td>20.973077</td>\n      <td>7.734615</td>\n    </tr>\n    <tr>\n      <th>std</th>\n      <td>240.269886</td>\n      <td>127.875914</td>\n      <td>14.205998</td>\n      <td>21.885199</td>\n      <td>5.321873</td>\n      <td>26.639209</td>\n      <td>0.429133</td>\n      <td>87.269257</td>\n      <td>29.091653</td>\n      <td>577.026323</td>\n      <td>...</td>\n      <td>28.252232</td>\n      <td>9.419544</td>\n      <td>1.567717</td>\n      <td>6.307057</td>\n      <td>28.679797</td>\n      <td>11.426146</td>\n      <td>24.366381</td>\n      <td>26.345542</td>\n      <td>17.019953</td>\n      <td>8.723263</td>\n    </tr>\n    <tr>\n      <th>min</th>\n      <td>0.000000</td>\n      <td>0.000000</td>\n      <td>0.000000</td>\n      <td>0.000000</td>\n      <td>0.000000</td>\n      <td>0.000000</td>\n      <td>0.000000</td>\n      <td>0.000000</td>\n      <td>0.000000</td>\n      <td>0.000000</td>\n      <td>...</td>\n      <td>0.000000</td>\n      <td>0.000000</td>\n      <td>0.000000</td>\n      <td>0.000000</td>\n      <td>0.000000</td>\n      <td>0.000000</td>\n      <td>0.000000</td>\n      <td>0.000000</td>\n      <td>0.000000</td>\n      <td>0.000000</td>\n    </tr>\n    <tr>\n      <th>25%</th>\n      <td>210.000000</td>\n      <td>20.000000</td>\n      <td>2.375000</td>\n      <td>3.750000</td>\n      <td>1.000000</td>\n      <td>4.750000</td>\n      <td>0.000000</td>\n      <td>5.000000</td>\n      <td>2.000000</td>\n      <td>107.500000</td>\n      <td>...</td>\n      <td>30.000000</td>\n      <td>10.000000</td>\n      <td>0.000000</td>\n      <td>0.000000</td>\n      <td>5.750000</td>\n      <td>4.000000</td>\n      <td>2.000000</td>\n      <td>0.000000</td>\n      <td>6.000000</td>\n      <td>0.000000</td>\n    </tr>\n    <tr>\n      <th>50%</th>\n      <td>340.000000</td>\n      <td>100.000000</td>\n      <td>11.000000</td>\n      <td>17.000000</td>\n      <td>5.000000</td>\n      <td>24.000000</td>\n      <td>0.000000</td>\n      <td>35.000000</td>\n      <td>11.000000</td>\n      <td>190.000000</td>\n      <td>...</td>\n      <td>44.000000</td>\n      <td>15.000000</td>\n      <td>1.000000</td>\n      <td>5.000000</td>\n      <td>17.500000</td>\n      <td>12.000000</td>\n      <td>8.000000</td>\n      <td>0.000000</td>\n      <td>20.000000</td>\n      <td>4.000000</td>\n    </tr>\n    <tr>\n      <th>75%</th>\n      <td>500.000000</td>\n      <td>200.000000</td>\n      <td>22.250000</td>\n      <td>35.000000</td>\n      <td>10.000000</td>\n      <td>48.000000</td>\n      <td>0.000000</td>\n      <td>65.000000</td>\n      <td>21.250000</td>\n      <td>865.000000</td>\n      <td>...</td>\n      <td>60.000000</td>\n      <td>20.000000</td>\n      <td>3.000000</td>\n      <td>10.000000</td>\n      <td>48.000000</td>\n      <td>19.000000</td>\n      <td>15.000000</td>\n      <td>4.000000</td>\n      <td>30.000000</td>\n      <td>15.000000</td>\n    </tr>\n    <tr>\n      <th>max</th>\n      <td>1880.000000</td>\n      <td>1060.000000</td>\n      <td>118.000000</td>\n      <td>182.000000</td>\n      <td>20.000000</td>\n      <td>102.000000</td>\n      <td>2.500000</td>\n      <td>575.000000</td>\n      <td>192.000000</td>\n      <td>3600.000000</td>\n      <td>...</td>\n      <td>141.000000</td>\n      <td>47.000000</td>\n      <td>7.000000</td>\n      <td>28.000000</td>\n      <td>128.000000</td>\n      <td>87.000000</td>\n      <td>170.000000</td>\n      <td>240.000000</td>\n      <td>70.000000</td>\n      <td>40.000000</td>\n    </tr>\n  </tbody>\n</table>\n<p>8 rows × 21 columns</p>\n</div>"
     },
     "execution_count": 39,
     "metadata": {},
     "output_type": "execute_result"
    }
   ],
   "source": [
    "data.describe()"
   ],
   "metadata": {
    "collapsed": false,
    "pycharm": {
     "name": "#%%\n"
    }
   }
  },
  {
   "cell_type": "code",
   "execution_count": null,
   "outputs": [],
   "source": [
    "data['Serving Size'].describe()"
   ],
   "metadata": {
    "collapsed": false,
    "pycharm": {
     "name": "#%%\n"
    }
   }
  },
  {
   "cell_type": "code",
   "execution_count": 36,
   "outputs": [
    {
     "name": "stdout",
     "output_type": "stream",
     "text": [
      "202\n"
     ]
    }
   ],
   "source": [],
   "metadata": {
    "collapsed": false,
    "pycharm": {
     "name": "#%%\n"
    }
   }
  },
  {
   "cell_type": "code",
   "execution_count": 54,
   "outputs": [],
   "source": [
    "data = data.drop(columns=['Category', 'Item', 'Serving Size'])"
   ],
   "metadata": {
    "collapsed": false,
    "pycharm": {
     "name": "#%%\n"
    }
   }
  },
  {
   "cell_type": "code",
   "execution_count": 60,
   "outputs": [],
   "source": [
    "data_np = data.to_numpy()"
   ],
   "metadata": {
    "collapsed": false,
    "pycharm": {
     "name": "#%%\n"
    }
   }
  },
  {
   "cell_type": "code",
   "execution_count": 61,
   "outputs": [
    {
     "name": "stdout",
     "output_type": "stream",
     "text": [
      "[[300. 120.  13. ...   0.  25.  15.]\n",
      " [250.  70.   8. ...   0.  25.   8.]\n",
      " [370. 200.  23. ...   0.  25.  10.]\n",
      " ...\n",
      " [340. 100.  11. ...   0.  25.   6.]\n",
      " [810. 290.  32. ...   0.  60.   6.]\n",
      " [410. 150.  16. ...   0.  30.   4.]]\n"
     ]
    }
   ],
   "source": [
    "print(data_np)"
   ],
   "metadata": {
    "collapsed": false,
    "pycharm": {
     "name": "#%%\n"
    }
   }
  },
  {
   "cell_type": "code",
   "execution_count": 65,
   "outputs": [],
   "source": [
    "corr = np.corrcoef(data_np, rowvar=False)"
   ],
   "metadata": {
    "collapsed": false,
    "pycharm": {
     "name": "#%%\n"
    }
   }
  },
  {
   "cell_type": "code",
   "execution_count": 66,
   "outputs": [
    {
     "data": {
      "text/plain": "<AxesSubplot:>"
     },
     "execution_count": 66,
     "metadata": {},
     "output_type": "execute_result"
    },
    {
     "data": {
      "text/plain": "<Figure size 432x288 with 2 Axes>",
      "image/png": "[encoded data removed]"
     },
     "metadata": {
      "needs_background": "light"
     },
     "output_type": "display_data"
    }
   ],
   "source": [
    "sb.heatmap(corr)"
   ],
   "metadata": {
    "collapsed": false,
    "pycharm": {
     "name": "#%%\n"
    }
   }
  },
  {
   "cell_type": "markdown",
   "source": [
    "Wycentrowanie nie jest konieczne, jednak ułatwi skalowanie."
   ],
   "metadata": {
    "collapsed": false,
    "pycharm": {
     "name": "#%% md\n"
    }
   }
  },
  {
   "cell_type": "code",
   "execution_count": 70,
   "outputs": [
    {
     "data": {
      "text/plain": "count     260.000000\nmean      368.269231\nstd       240.269886\nmin         0.000000\n25%       210.000000\n50%       340.000000\n75%       500.000000\nmax      1880.000000\nName: Calories, dtype: float64"
     },
     "execution_count": 70,
     "metadata": {},
     "output_type": "execute_result"
    }
   ],
   "source": [
    "data['Calories'].describe()"
   ],
   "metadata": {
    "collapsed": false,
    "pycharm": {
     "name": "#%%\n"
    }
   }
  },
  {
   "cell_type": "code",
   "execution_count": 71,
   "outputs": [
    {
     "data": {
      "text/plain": "count    260.000000\nmean      29.423077\nstd       28.679797\nmin        0.000000\n25%        5.750000\n50%       17.500000\n75%       48.000000\nmax      128.000000\nName: Sugars, dtype: float64"
     },
     "execution_count": 71,
     "metadata": {},
     "output_type": "execute_result"
    }
   ],
   "source": [
    "data['Sugars'].describe()"
   ],
   "metadata": {
    "collapsed": false,
    "pycharm": {
     "name": "#%%\n"
    }
   }
  },
  {
   "cell_type": "code",
   "execution_count": 72,
   "outputs": [
    {
     "data": {
      "text/plain": "count    260.000000\nmean      13.338462\nstd       11.426146\nmin        0.000000\n25%        4.000000\n50%       12.000000\n75%       19.000000\nmax       87.000000\nName: Protein, dtype: float64"
     },
     "execution_count": 72,
     "metadata": {},
     "output_type": "execute_result"
    }
   ],
   "source": [
    "data['Protein'].describe()"
   ],
   "metadata": {
    "collapsed": false,
    "pycharm": {
     "name": "#%%\n"
    }
   }
  },
  {
   "cell_type": "code",
   "execution_count": 73,
   "outputs": [
    {
     "data": {
      "text/plain": "count    260.000000\nmean       0.203846\nstd        0.429133\nmin        0.000000\n25%        0.000000\n50%        0.000000\n75%        0.000000\nmax        2.500000\nName: Trans Fat, dtype: float64"
     },
     "execution_count": 73,
     "metadata": {},
     "output_type": "execute_result"
    }
   ],
   "source": [
    "data['Trans Fat'].describe()"
   ],
   "metadata": {
    "collapsed": false,
    "pycharm": {
     "name": "#%%\n"
    }
   }
  },
  {
   "cell_type": "code",
   "execution_count": 79,
   "outputs": [
    {
     "name": "stdout",
     "output_type": "stream",
     "text": [
      "21\n"
     ]
    }
   ],
   "source": [
    "print(data.shape[1])"
   ],
   "metadata": {
    "collapsed": false,
    "pycharm": {
     "name": "#%%\n"
    }
   }
  },
  {
   "cell_type": "code",
   "execution_count": 82,
   "outputs": [
    {
     "ename": "KeyError",
     "evalue": "0",
     "output_type": "error",
     "traceback": [
      "\u001B[0;31m---------------------------------------------------------------------------\u001B[0m",
      "\u001B[0;31mKeyError\u001B[0m                                  Traceback (most recent call last)",
      "\u001B[0;32m~/uni/sem6/ml/lab1/venv/lib/python3.8/site-packages/pandas/core/indexes/base.py\u001B[0m in \u001B[0;36mget_loc\u001B[0;34m(self, key, method, tolerance)\u001B[0m\n\u001B[1;32m   3079\u001B[0m             \u001B[0;32mtry\u001B[0m\u001B[0;34m:\u001B[0m\u001B[0;34m\u001B[0m\u001B[0;34m\u001B[0m\u001B[0m\n\u001B[0;32m-> 3080\u001B[0;31m                 \u001B[0;32mreturn\u001B[0m \u001B[0mself\u001B[0m\u001B[0;34m.\u001B[0m\u001B[0m_engine\u001B[0m\u001B[0;34m.\u001B[0m\u001B[0mget_loc\u001B[0m\u001B[0;34m(\u001B[0m\u001B[0mcasted_key\u001B[0m\u001B[0;34m)\u001B[0m\u001B[0;34m\u001B[0m\u001B[0;34m\u001B[0m\u001B[0m\n\u001B[0m\u001B[1;32m   3081\u001B[0m             \u001B[0;32mexcept\u001B[0m \u001B[0mKeyError\u001B[0m \u001B[0;32mas\u001B[0m \u001B[0merr\u001B[0m\u001B[0;34m:\u001B[0m\u001B[0;34m\u001B[0m\u001B[0;34m\u001B[0m\u001B[0m\n",
      "\u001B[0;32mpandas/_libs/index.pyx\u001B[0m in \u001B[0;36mpandas._libs.index.IndexEngine.get_loc\u001B[0;34m()\u001B[0m\n",
      "\u001B[0;32mpandas/_libs/index.pyx\u001B[0m in \u001B[0;36mpandas._libs.index.IndexEngine.get_loc\u001B[0;34m()\u001B[0m\n",
      "\u001B[0;32mpandas/_libs/hashtable_class_helper.pxi\u001B[0m in \u001B[0;36mpandas._libs.hashtable.PyObjectHashTable.get_item\u001B[0;34m()\u001B[0m\n",
      "\u001B[0;32mpandas/_libs/hashtable_class_helper.pxi\u001B[0m in \u001B[0;36mpandas._libs.hashtable.PyObjectHashTable.get_item\u001B[0;34m()\u001B[0m\n",
      "\u001B[0;31mKeyError\u001B[0m: 0",
      "\nThe above exception was the direct cause of the following exception:\n",
      "\u001B[0;31mKeyError\u001B[0m                                  Traceback (most recent call last)",
      "\u001B[0;32m<ipython-input-82-80a4aab09c73>\u001B[0m in \u001B[0;36m<module>\u001B[0;34m\u001B[0m\n\u001B[0;32m----> 1\u001B[0;31m \u001B[0mdata\u001B[0m\u001B[0;34m[\u001B[0m\u001B[0;36m0\u001B[0m\u001B[0;34m]\u001B[0m\u001B[0;34m\u001B[0m\u001B[0;34m\u001B[0m\u001B[0m\n\u001B[0m",
      "\u001B[0;32m~/uni/sem6/ml/lab1/venv/lib/python3.8/site-packages/pandas/core/frame.py\u001B[0m in \u001B[0;36m__getitem__\u001B[0;34m(self, key)\u001B[0m\n\u001B[1;32m   3022\u001B[0m             \u001B[0;32mif\u001B[0m \u001B[0mself\u001B[0m\u001B[0;34m.\u001B[0m\u001B[0mcolumns\u001B[0m\u001B[0;34m.\u001B[0m\u001B[0mnlevels\u001B[0m \u001B[0;34m>\u001B[0m \u001B[0;36m1\u001B[0m\u001B[0;34m:\u001B[0m\u001B[0;34m\u001B[0m\u001B[0;34m\u001B[0m\u001B[0m\n\u001B[1;32m   3023\u001B[0m                 \u001B[0;32mreturn\u001B[0m \u001B[0mself\u001B[0m\u001B[0;34m.\u001B[0m\u001B[0m_getitem_multilevel\u001B[0m\u001B[0;34m(\u001B[0m\u001B[0mkey\u001B[0m\u001B[0;34m)\u001B[0m\u001B[0;34m\u001B[0m\u001B[0;34m\u001B[0m\u001B[0m\n\u001B[0;32m-> 3024\u001B[0;31m             \u001B[0mindexer\u001B[0m \u001B[0;34m=\u001B[0m \u001B[0mself\u001B[0m\u001B[0;34m.\u001B[0m\u001B[0mcolumns\u001B[0m\u001B[0;34m.\u001B[0m\u001B[0mget_loc\u001B[0m\u001B[0;34m(\u001B[0m\u001B[0mkey\u001B[0m\u001B[0;34m)\u001B[0m\u001B[0;34m\u001B[0m\u001B[0;34m\u001B[0m\u001B[0m\n\u001B[0m\u001B[1;32m   3025\u001B[0m             \u001B[0;32mif\u001B[0m \u001B[0mis_integer\u001B[0m\u001B[0;34m(\u001B[0m\u001B[0mindexer\u001B[0m\u001B[0;34m)\u001B[0m\u001B[0;34m:\u001B[0m\u001B[0;34m\u001B[0m\u001B[0;34m\u001B[0m\u001B[0m\n\u001B[1;32m   3026\u001B[0m                 \u001B[0mindexer\u001B[0m \u001B[0;34m=\u001B[0m \u001B[0;34m[\u001B[0m\u001B[0mindexer\u001B[0m\u001B[0;34m]\u001B[0m\u001B[0;34m\u001B[0m\u001B[0;34m\u001B[0m\u001B[0m\n",
      "\u001B[0;32m~/uni/sem6/ml/lab1/venv/lib/python3.8/site-packages/pandas/core/indexes/base.py\u001B[0m in \u001B[0;36mget_loc\u001B[0;34m(self, key, method, tolerance)\u001B[0m\n\u001B[1;32m   3080\u001B[0m                 \u001B[0;32mreturn\u001B[0m \u001B[0mself\u001B[0m\u001B[0;34m.\u001B[0m\u001B[0m_engine\u001B[0m\u001B[0;34m.\u001B[0m\u001B[0mget_loc\u001B[0m\u001B[0;34m(\u001B[0m\u001B[0mcasted_key\u001B[0m\u001B[0;34m)\u001B[0m\u001B[0;34m\u001B[0m\u001B[0;34m\u001B[0m\u001B[0m\n\u001B[1;32m   3081\u001B[0m             \u001B[0;32mexcept\u001B[0m \u001B[0mKeyError\u001B[0m \u001B[0;32mas\u001B[0m \u001B[0merr\u001B[0m\u001B[0;34m:\u001B[0m\u001B[0;34m\u001B[0m\u001B[0;34m\u001B[0m\u001B[0m\n\u001B[0;32m-> 3082\u001B[0;31m                 \u001B[0;32mraise\u001B[0m \u001B[0mKeyError\u001B[0m\u001B[0;34m(\u001B[0m\u001B[0mkey\u001B[0m\u001B[0;34m)\u001B[0m \u001B[0;32mfrom\u001B[0m \u001B[0merr\u001B[0m\u001B[0;34m\u001B[0m\u001B[0;34m\u001B[0m\u001B[0m\n\u001B[0m\u001B[1;32m   3083\u001B[0m \u001B[0;34m\u001B[0m\u001B[0m\n\u001B[1;32m   3084\u001B[0m         \u001B[0;32mif\u001B[0m \u001B[0mtolerance\u001B[0m \u001B[0;32mis\u001B[0m \u001B[0;32mnot\u001B[0m \u001B[0;32mNone\u001B[0m\u001B[0;34m:\u001B[0m\u001B[0;34m\u001B[0m\u001B[0;34m\u001B[0m\u001B[0m\n",
      "\u001B[0;31mKeyError\u001B[0m: 0"
     ]
    }
   ],
   "source": [
    "data[0]"
   ],
   "metadata": {
    "collapsed": false,
    "pycharm": {
     "name": "#%%\n"
    }
   }
  },
  {
   "cell_type": "code",
   "execution_count": 95,
   "outputs": [],
   "source": [
    "data_reduced = data.drop(columns=['Total Fat', 'Saturated Fat', 'Cholesterol', 'Sodium', 'Carbohydrates', 'Dietary Fiber'])"
   ],
   "metadata": {
    "collapsed": false,
    "pycharm": {
     "name": "#%%\n"
    }
   }
  },
  {
   "cell_type": "code",
   "execution_count": 96,
   "outputs": [],
   "source": [
    "data_reduced_np = data_reduced.to_numpy()"
   ],
   "metadata": {
    "collapsed": false,
    "pycharm": {
     "name": "#%%\n"
    }
   }
  },
  {
   "cell_type": "code",
   "execution_count": 97,
   "outputs": [
    {
     "data": {
      "text/plain": "<AxesSubplot:>"
     },
     "execution_count": 97,
     "metadata": {},
     "output_type": "execute_result"
    },
    {
     "data": {
      "text/plain": "<Figure size 432x288 with 2 Axes>",
      "image/png": "[encoded data removed]"
     },
     "metadata": {
      "needs_background": "light"
     },
     "output_type": "display_data"
    }
   ],
   "source": [
    "sb.heatmap(np.corrcoef(data_reduced_np, rowvar=False))"
   ],
   "metadata": {
    "collapsed": false,
    "pycharm": {
     "name": "#%%\n"
    }
   }
  },
  {
   "cell_type": "code",
   "execution_count": 99,
   "outputs": [
    {
     "data": {
      "text/plain": "array([[1.       , 0.9045878],\n       [0.9045878, 1.       ]])"
     },
     "execution_count": 99,
     "metadata": {},
     "output_type": "execute_result"
    }
   ],
   "source": [],
   "metadata": {
    "collapsed": false,
    "pycharm": {
     "name": "#%%\n"
    }
   }
  },
  {
   "cell_type": "code",
   "execution_count": 102,
   "outputs": [
    {
     "data": {
      "text/plain": "array([[1.       , 0.9996635],\n       [0.9996635, 1.       ]])"
     },
     "execution_count": 102,
     "metadata": {},
     "output_type": "execute_result"
    }
   ],
   "source": [
    "np.corrcoef(data['Total Fat'], data['Calories from Fat'])"
   ],
   "metadata": {
    "collapsed": false,
    "pycharm": {
     "name": "#%%\n"
    }
   }
  },
  {
   "cell_type": "code",
   "execution_count": 105,
   "outputs": [
    {
     "data": {
      "text/plain": "          Calories  Calories from Fat  Total Fat (% Daily Value)  \\\ncount   260.000000         260.000000                 260.000000   \nmean    368.269231         127.096154                  21.815385   \nstd     240.269886         127.875914                  21.885199   \nmin       0.000000           0.000000                   0.000000   \n25%     210.000000          20.000000                   3.750000   \n50%     340.000000         100.000000                  17.000000   \n75%     500.000000         200.000000                  35.000000   \nmax    1880.000000        1060.000000                 182.000000   \n\n       Saturated Fat (% Daily Value)   Trans Fat  Cholesterol (% Daily Value)  \\\ncount                     260.000000  260.000000                   260.000000   \nmean                       29.965385    0.203846                    18.392308   \nstd                        26.639209    0.429133                    29.091653   \nmin                         0.000000    0.000000                     0.000000   \n25%                         4.750000    0.000000                     2.000000   \n50%                        24.000000    0.000000                    11.000000   \n75%                        48.000000    0.000000                    21.250000   \nmax                       102.000000    2.500000                   192.000000   \n\n       Sodium (% Daily Value)  Carbohydrates (% Daily Value)  \\\ncount              260.000000                     260.000000   \nmean                20.676923                      15.780769   \nstd                 24.034954                       9.419544   \nmin                  0.000000                       0.000000   \n25%                  4.750000                      10.000000   \n50%                  8.000000                      15.000000   \n75%                 36.250000                      20.000000   \nmax                150.000000                      47.000000   \n\n       Dietary Fiber (% Daily Value)      Sugars     Protein  \\\ncount                     260.000000  260.000000  260.000000   \nmean                        6.530769   29.423077   13.338462   \nstd                         6.307057   28.679797   11.426146   \nmin                         0.000000    0.000000    0.000000   \n25%                         0.000000    5.750000    4.000000   \n50%                         5.000000   17.500000   12.000000   \n75%                        10.000000   48.000000   19.000000   \nmax                        28.000000  128.000000   87.000000   \n\n       Vitamin A (% Daily Value)  Vitamin C (% Daily Value)  \\\ncount                 260.000000                 260.000000   \nmean                   13.426923                   8.534615   \nstd                    24.366381                  26.345542   \nmin                     0.000000                   0.000000   \n25%                     2.000000                   0.000000   \n50%                     8.000000                   0.000000   \n75%                    15.000000                   4.000000   \nmax                   170.000000                 240.000000   \n\n       Calcium (% Daily Value)  Iron (% Daily Value)  \ncount               260.000000            260.000000  \nmean                 20.973077              7.734615  \nstd                  17.019953              8.723263  \nmin                   0.000000              0.000000  \n25%                   6.000000              0.000000  \n50%                  20.000000              4.000000  \n75%                  30.000000             15.000000  \nmax                  70.000000             40.000000  ",
      "text/html": "<div>\n<style scoped>\n    .dataframe tbody tr th:only-of-type {\n        vertical-align: middle;\n    }\n\n    .dataframe tbody tr th {\n        vertical-align: top;\n    }\n\n    .dataframe thead th {\n        text-align: right;\n    }\n</style>\n<table border=\"1\" class=\"dataframe\">\n  <thead>\n    <tr style=\"text-align: right;\">\n      <th></th>\n      <th>Calories</th>\n      <th>Calories from Fat</th>\n      <th>Total Fat (% Daily Value)</th>\n      <th>Saturated Fat (% Daily Value)</th>\n      <th>Trans Fat</th>\n      <th>Cholesterol (% Daily Value)</th>\n      <th>Sodium (% Daily Value)</th>\n      <th>Carbohydrates (% Daily Value)</th>\n      <th>Dietary Fiber (% Daily Value)</th>\n      <th>Sugars</th>\n      <th>Protein</th>\n      <th>Vitamin A (% Daily Value)</th>\n      <th>Vitamin C (% Daily Value)</th>\n      <th>Calcium (% Daily Value)</th>\n      <th>Iron (% Daily Value)</th>\n    </tr>\n  </thead>\n  <tbody>\n    <tr>\n      <th>count</th>\n      <td>260.000000</td>\n      <td>260.000000</td>\n      <td>260.000000</td>\n      <td>260.000000</td>\n      <td>260.000000</td>\n      <td>260.000000</td>\n      <td>260.000000</td>\n      <td>260.000000</td>\n      <td>260.000000</td>\n      <td>260.000000</td>\n      <td>260.000000</td>\n      <td>260.000000</td>\n      <td>260.000000</td>\n      <td>260.000000</td>\n      <td>260.000000</td>\n    </tr>\n    <tr>\n      <th>mean</th>\n      <td>368.269231</td>\n      <td>127.096154</td>\n      <td>21.815385</td>\n      <td>29.965385</td>\n      <td>0.203846</td>\n      <td>18.392308</td>\n      <td>20.676923</td>\n      <td>15.780769</td>\n      <td>6.530769</td>\n      <td>29.423077</td>\n      <td>13.338462</td>\n      <td>13.426923</td>\n      <td>8.534615</td>\n      <td>20.973077</td>\n      <td>7.734615</td>\n    </tr>\n    <tr>\n      <th>std</th>\n      <td>240.269886</td>\n      <td>127.875914</td>\n      <td>21.885199</td>\n      <td>26.639209</td>\n      <td>0.429133</td>\n      <td>29.091653</td>\n      <td>24.034954</td>\n      <td>9.419544</td>\n      <td>6.307057</td>\n      <td>28.679797</td>\n      <td>11.426146</td>\n      <td>24.366381</td>\n      <td>26.345542</td>\n      <td>17.019953</td>\n      <td>8.723263</td>\n    </tr>\n    <tr>\n      <th>min</th>\n      <td>0.000000</td>\n      <td>0.000000</td>\n      <td>0.000000</td>\n      <td>0.000000</td>\n      <td>0.000000</td>\n      <td>0.000000</td>\n      <td>0.000000</td>\n      <td>0.000000</td>\n      <td>0.000000</td>\n      <td>0.000000</td>\n      <td>0.000000</td>\n      <td>0.000000</td>\n      <td>0.000000</td>\n      <td>0.000000</td>\n      <td>0.000000</td>\n    </tr>\n    <tr>\n      <th>25%</th>\n      <td>210.000000</td>\n      <td>20.000000</td>\n      <td>3.750000</td>\n      <td>4.750000</td>\n      <td>0.000000</td>\n      <td>2.000000</td>\n      <td>4.750000</td>\n      <td>10.000000</td>\n      <td>0.000000</td>\n      <td>5.750000</td>\n      <td>4.000000</td>\n      <td>2.000000</td>\n      <td>0.000000</td>\n      <td>6.000000</td>\n      <td>0.000000</td>\n    </tr>\n    <tr>\n      <th>50%</th>\n      <td>340.000000</td>\n      <td>100.000000</td>\n      <td>17.000000</td>\n      <td>24.000000</td>\n      <td>0.000000</td>\n      <td>11.000000</td>\n      <td>8.000000</td>\n      <td>15.000000</td>\n      <td>5.000000</td>\n      <td>17.500000</td>\n      <td>12.000000</td>\n      <td>8.000000</td>\n      <td>0.000000</td>\n      <td>20.000000</td>\n      <td>4.000000</td>\n    </tr>\n    <tr>\n      <th>75%</th>\n      <td>500.000000</td>\n      <td>200.000000</td>\n      <td>35.000000</td>\n      <td>48.000000</td>\n      <td>0.000000</td>\n      <td>21.250000</td>\n      <td>36.250000</td>\n      <td>20.000000</td>\n      <td>10.000000</td>\n      <td>48.000000</td>\n      <td>19.000000</td>\n      <td>15.000000</td>\n      <td>4.000000</td>\n      <td>30.000000</td>\n      <td>15.000000</td>\n    </tr>\n    <tr>\n      <th>max</th>\n      <td>1880.000000</td>\n      <td>1060.000000</td>\n      <td>182.000000</td>\n      <td>102.000000</td>\n      <td>2.500000</td>\n      <td>192.000000</td>\n      <td>150.000000</td>\n      <td>47.000000</td>\n      <td>28.000000</td>\n      <td>128.000000</td>\n      <td>87.000000</td>\n      <td>170.000000</td>\n      <td>240.000000</td>\n      <td>70.000000</td>\n      <td>40.000000</td>\n    </tr>\n  </tbody>\n</table>\n</div>"
     },
     "execution_count": 105,
     "metadata": {},
     "output_type": "execute_result"
    }
   ],
   "source": [
    "data_reduced.describe()"
   ],
   "metadata": {
    "collapsed": false,
    "pycharm": {
     "name": "#%%\n"
    }
   }
  },
  {
   "cell_type": "code",
   "execution_count": 106,
   "outputs": [
    {
     "data": {
      "text/plain": "array([[1.       , 0.9045878],\n       [0.9045878, 1.       ]])"
     },
     "execution_count": 106,
     "metadata": {},
     "output_type": "execute_result"
    }
   ],
   "source": [
    "np.corrcoef(data_reduced['Calories'], data_reduced['Calories from Fat'])"
   ],
   "metadata": {
    "collapsed": false,
    "pycharm": {
     "name": "#%%\n"
    }
   }
  },
  {
   "cell_type": "code",
   "execution_count": 109,
   "outputs": [],
   "source": [
    "final_data = data_reduced.drop(columns=['Calories from Fat'])"
   ],
   "metadata": {
    "collapsed": false,
    "pycharm": {
     "name": "#%%\n"
    }
   }
  },
  {
   "cell_type": "code",
   "execution_count": 110,
   "outputs": [
    {
     "data": {
      "text/plain": "<AxesSubplot:>"
     },
     "execution_count": 110,
     "metadata": {},
     "output_type": "execute_result"
    },
    {
     "data": {
      "text/plain": "<Figure size 432x288 with 2 Axes>",
      "image/png": "[encoded data removed]"
     },
     "metadata": {
      "needs_background": "light"
     },
     "output_type": "display_data"
    }
   ],
   "source": [
    "sb.heatmap(np.corrcoef(final_data.to_numpy(), rowvar=False))"
   ],
   "metadata": {
    "collapsed": false,
    "pycharm": {
     "name": "#%%\n"
    }
   }
  },
  {
   "cell_type": "code",
   "execution_count": 111,
   "outputs": [
    {
     "data": {
      "text/plain": "<Figure size 432x288 with 1 Axes>",
      "image/png": "[encoded data removed]"
     },
     "metadata": {
      "needs_background": "light"
     },
     "output_type": "display_data"
    },
    {
     "data": {
      "text/plain": "<Figure size 432x288 with 1 Axes>",
      "image/png": "[encoded data removed]"
     },
     "metadata": {
      "needs_background": "light"
     },
     "output_type": "display_data"
    },
    {
     "data": {
      "text/plain": "<Figure size 432x288 with 1 Axes>",
      "image/png": "[encoded data removed]"
     },
     "metadata": {
      "needs_background": "light"
     },
     "output_type": "display_data"
    },
    {
     "data": {
      "text/plain": "<Figure size 432x288 with 1 Axes>",
      "image/png": "[encoded data removed]"
     },
     "metadata": {
      "needs_background": "light"
     },
     "output_type": "display_data"
    },
    {
     "data": {
      "text/plain": "<Figure size 432x288 with 1 Axes>",
      "image/png": "[encoded data removed]"
     },
     "metadata": {
      "needs_background": "light"
     },
     "output_type": "display_data"
    },
    {
     "data": {
      "text/plain": "<Figure size 432x288 with 1 Axes>",
      "image/png": "[encoded data removed]"
     },
     "metadata": {
      "needs_background": "light"
     },
     "output_type": "display_data"
    },
    {
     "data": {
      "text/plain": "<Figure size 432x288 with 1 Axes>",
      "image/png": "[encoded data removed]"
     },
     "metadata": {
      "needs_background": "light"
     },
     "output_type": "display_data"
    },
    {
     "data": {
      "text/plain": "<Figure size 432x288 with 1 Axes>",
      "image/png": "[encoded data removed]"
     },
     "metadata": {
      "needs_background": "light"
     },
     "output_type": "display_data"
    },
    {
     "data": {
      "text/plain": "<Figure size 432x288 with 1 Axes>",
      "image/png": "[encoded data removed]"
     },
     "metadata": {
      "needs_background": "light"
     },
     "output_type": "display_data"
    },
    {
     "data": {
      "text/plain": "<Figure size 432x288 with 1 Axes>",
      "image/png": "[encoded data removed]"
     },
     "metadata": {
      "needs_background": "light"
     },
     "output_type": "display_data"
    },
    {
     "data": {
      "text/plain": "<Figure size 432x288 with 1 Axes>",
      "image/png": "[encoded data removed]"
     },
     "metadata": {
      "needs_background": "light"
     },
     "output_type": "display_data"
    },
    {
     "data": {
      "text/plain": "<Figure size 432x288 with 1 Axes>",
      "image/png": "[encoded data removed]"
     },
     "metadata": {
      "needs_background": "light"
     },
     "output_type": "display_data"
    },
    {
     "data": {
      "text/plain": "<Figure size 432x288 with 1 Axes>",
      "image/png": "[encoded data removed]"
     },
     "metadata": {
      "needs_background": "light"
     },
     "output_type": "display_data"
    },
    {
     "data": {
      "text/plain": "<Figure size 432x288 with 1 Axes>",
      "image/png": "[encoded data removed]"
     },
     "metadata": {
      "needs_background": "light"
     },
     "output_type": "display_data"
    }
   ],
   "source": [
    "for column in final_data:\n",
    "    plt.bar(range(final_data.shape[0]), final_data[column])\n",
    "    plt.xlabel(column)\n",
    "    plt.show()"
   ],
   "metadata": {
    "collapsed": false,
    "pycharm": {
     "name": "#%%\n"
    }
   }
  },
  {
   "cell_type": "markdown",
   "source": [
    "P"
   ],
   "metadata": {
    "collapsed": false,
    "pycharm": {
     "name": "#%% md\n"
    }
   }
  },
  {
   "cell_type": "code",
   "execution_count": 139,
   "outputs": [],
   "source": [
    "final_data_np = final_data.to_numpy()"
   ],
   "metadata": {
    "collapsed": false,
    "pycharm": {
     "name": "#%%\n"
    }
   }
  },
  {
   "cell_type": "code",
   "execution_count": 187,
   "outputs": [],
   "source": [
    "def score_basic_kmeans(data, func, verbose=False, n_clusters=5):\n",
    "    kmeans = KMeans(n_clusters=n_clusters, init=func, verbose=verbose)\n",
    "    kmeans.fit(data)\n",
    "    return davies_bouldin_score(data, kmeans.labels_)"
   ],
   "metadata": {
    "collapsed": false,
    "pycharm": {
     "name": "#%%\n"
    }
   }
  },
  {
   "cell_type": "code",
   "execution_count": 188,
   "outputs": [
    {
     "ename": "ValueError",
     "evalue": "y should be a 1d array, got an array of shape (5, 14) instead.",
     "output_type": "error",
     "traceback": [
      "\u001B[0;31m---------------------------------------------------------------------------\u001B[0m",
      "\u001B[0;31mValueError\u001B[0m                                Traceback (most recent call last)",
      "\u001B[0;32m<ipython-input-188-82c28f9e64e0>\u001B[0m in \u001B[0;36m<module>\u001B[0;34m\u001B[0m\n\u001B[0;32m----> 1\u001B[0;31m \u001B[0mscore_basic_kmeans\u001B[0m\u001B[0;34m(\u001B[0m\u001B[0mfinal_data_np\u001B[0m\u001B[0;34m,\u001B[0m \u001B[0;34m\"k-means++\"\u001B[0m\u001B[0;34m)\u001B[0m\u001B[0;34m\u001B[0m\u001B[0;34m\u001B[0m\u001B[0m\n\u001B[0m",
      "\u001B[0;32m<ipython-input-187-6df643ecfc33>\u001B[0m in \u001B[0;36mscore_basic_kmeans\u001B[0;34m(data, func, verbose, n_clusters)\u001B[0m\n\u001B[1;32m      2\u001B[0m     \u001B[0mkmeans\u001B[0m \u001B[0;34m=\u001B[0m \u001B[0mKMeans\u001B[0m\u001B[0;34m(\u001B[0m\u001B[0mn_clusters\u001B[0m\u001B[0;34m=\u001B[0m\u001B[0mn_clusters\u001B[0m\u001B[0;34m,\u001B[0m \u001B[0minit\u001B[0m\u001B[0;34m=\u001B[0m\u001B[0mfunc\u001B[0m\u001B[0;34m,\u001B[0m \u001B[0mverbose\u001B[0m\u001B[0;34m=\u001B[0m\u001B[0mverbose\u001B[0m\u001B[0;34m)\u001B[0m\u001B[0;34m\u001B[0m\u001B[0;34m\u001B[0m\u001B[0m\n\u001B[1;32m      3\u001B[0m     \u001B[0mkmeans\u001B[0m\u001B[0;34m.\u001B[0m\u001B[0mfit\u001B[0m\u001B[0;34m(\u001B[0m\u001B[0mdata\u001B[0m\u001B[0;34m)\u001B[0m\u001B[0;34m\u001B[0m\u001B[0;34m\u001B[0m\u001B[0m\n\u001B[0;32m----> 4\u001B[0;31m     \u001B[0;32mreturn\u001B[0m \u001B[0mdavies_bouldin_score\u001B[0m\u001B[0;34m(\u001B[0m\u001B[0mdata\u001B[0m\u001B[0;34m,\u001B[0m \u001B[0mkmeans\u001B[0m\u001B[0;34m.\u001B[0m\u001B[0mlabels_\u001B[0m\u001B[0;34m)\u001B[0m\u001B[0;34m,\u001B[0m \u001B[0mdavies_bouldin_score\u001B[0m\u001B[0;34m(\u001B[0m\u001B[0mdata\u001B[0m\u001B[0;34m,\u001B[0m \u001B[0mkmeans\u001B[0m\u001B[0;34m.\u001B[0m\u001B[0mcluster_centers_\u001B[0m\u001B[0;34m)\u001B[0m\u001B[0;34m\u001B[0m\u001B[0;34m\u001B[0m\u001B[0m\n\u001B[0m",
      "\u001B[0;32m~/uni/sem6/ml/lab1/venv/lib/python3.8/site-packages/sklearn/metrics/cluster/_unsupervised.py\u001B[0m in \u001B[0;36mdavies_bouldin_score\u001B[0;34m(X, labels)\u001B[0m\n\u001B[1;32m    337\u001B[0m        \u001B[0mPAMI\u001B[0m\u001B[0;34m-\u001B[0m\u001B[0;36m1\u001B[0m \u001B[0;34m(\u001B[0m\u001B[0;36m2\u001B[0m\u001B[0;34m)\u001B[0m\u001B[0;34m:\u001B[0m \u001B[0;36m224\u001B[0m\u001B[0;34m-\u001B[0m\u001B[0;36m227\u001B[0m\u001B[0;34m\u001B[0m\u001B[0;34m\u001B[0m\u001B[0m\n\u001B[1;32m    338\u001B[0m     \"\"\"\n\u001B[0;32m--> 339\u001B[0;31m     \u001B[0mX\u001B[0m\u001B[0;34m,\u001B[0m \u001B[0mlabels\u001B[0m \u001B[0;34m=\u001B[0m \u001B[0mcheck_X_y\u001B[0m\u001B[0;34m(\u001B[0m\u001B[0mX\u001B[0m\u001B[0;34m,\u001B[0m \u001B[0mlabels\u001B[0m\u001B[0;34m)\u001B[0m\u001B[0;34m\u001B[0m\u001B[0;34m\u001B[0m\u001B[0m\n\u001B[0m\u001B[1;32m    340\u001B[0m     \u001B[0mle\u001B[0m \u001B[0;34m=\u001B[0m \u001B[0mLabelEncoder\u001B[0m\u001B[0;34m(\u001B[0m\u001B[0;34m)\u001B[0m\u001B[0;34m\u001B[0m\u001B[0;34m\u001B[0m\u001B[0m\n\u001B[1;32m    341\u001B[0m     \u001B[0mlabels\u001B[0m \u001B[0;34m=\u001B[0m \u001B[0mle\u001B[0m\u001B[0;34m.\u001B[0m\u001B[0mfit_transform\u001B[0m\u001B[0;34m(\u001B[0m\u001B[0mlabels\u001B[0m\u001B[0;34m)\u001B[0m\u001B[0;34m\u001B[0m\u001B[0;34m\u001B[0m\u001B[0m\n",
      "\u001B[0;32m~/uni/sem6/ml/lab1/venv/lib/python3.8/site-packages/sklearn/utils/validation.py\u001B[0m in \u001B[0;36minner_f\u001B[0;34m(*args, **kwargs)\u001B[0m\n\u001B[1;32m     61\u001B[0m             \u001B[0mextra_args\u001B[0m \u001B[0;34m=\u001B[0m \u001B[0mlen\u001B[0m\u001B[0;34m(\u001B[0m\u001B[0margs\u001B[0m\u001B[0;34m)\u001B[0m \u001B[0;34m-\u001B[0m \u001B[0mlen\u001B[0m\u001B[0;34m(\u001B[0m\u001B[0mall_args\u001B[0m\u001B[0;34m)\u001B[0m\u001B[0;34m\u001B[0m\u001B[0;34m\u001B[0m\u001B[0m\n\u001B[1;32m     62\u001B[0m             \u001B[0;32mif\u001B[0m \u001B[0mextra_args\u001B[0m \u001B[0;34m<=\u001B[0m \u001B[0;36m0\u001B[0m\u001B[0;34m:\u001B[0m\u001B[0;34m\u001B[0m\u001B[0;34m\u001B[0m\u001B[0m\n\u001B[0;32m---> 63\u001B[0;31m                 \u001B[0;32mreturn\u001B[0m \u001B[0mf\u001B[0m\u001B[0;34m(\u001B[0m\u001B[0;34m*\u001B[0m\u001B[0margs\u001B[0m\u001B[0;34m,\u001B[0m \u001B[0;34m**\u001B[0m\u001B[0mkwargs\u001B[0m\u001B[0;34m)\u001B[0m\u001B[0;34m\u001B[0m\u001B[0;34m\u001B[0m\u001B[0m\n\u001B[0m\u001B[1;32m     64\u001B[0m \u001B[0;34m\u001B[0m\u001B[0m\n\u001B[1;32m     65\u001B[0m             \u001B[0;31m# extra_args > 0\u001B[0m\u001B[0;34m\u001B[0m\u001B[0;34m\u001B[0m\u001B[0;34m\u001B[0m\u001B[0m\n",
      "\u001B[0;32m~/uni/sem6/ml/lab1/venv/lib/python3.8/site-packages/sklearn/utils/validation.py\u001B[0m in \u001B[0;36mcheck_X_y\u001B[0;34m(X, y, accept_sparse, accept_large_sparse, dtype, order, copy, force_all_finite, ensure_2d, allow_nd, multi_output, ensure_min_samples, ensure_min_features, y_numeric, estimator)\u001B[0m\n\u001B[1;32m    824\u001B[0m                         ensure_2d=False, dtype=None)\n\u001B[1;32m    825\u001B[0m     \u001B[0;32melse\u001B[0m\u001B[0;34m:\u001B[0m\u001B[0;34m\u001B[0m\u001B[0;34m\u001B[0m\u001B[0m\n\u001B[0;32m--> 826\u001B[0;31m         \u001B[0my\u001B[0m \u001B[0;34m=\u001B[0m \u001B[0mcolumn_or_1d\u001B[0m\u001B[0;34m(\u001B[0m\u001B[0my\u001B[0m\u001B[0;34m,\u001B[0m \u001B[0mwarn\u001B[0m\u001B[0;34m=\u001B[0m\u001B[0;32mTrue\u001B[0m\u001B[0;34m)\u001B[0m\u001B[0;34m\u001B[0m\u001B[0;34m\u001B[0m\u001B[0m\n\u001B[0m\u001B[1;32m    827\u001B[0m         \u001B[0m_assert_all_finite\u001B[0m\u001B[0;34m(\u001B[0m\u001B[0my\u001B[0m\u001B[0;34m)\u001B[0m\u001B[0;34m\u001B[0m\u001B[0;34m\u001B[0m\u001B[0m\n\u001B[1;32m    828\u001B[0m     \u001B[0;32mif\u001B[0m \u001B[0my_numeric\u001B[0m \u001B[0;32mand\u001B[0m \u001B[0my\u001B[0m\u001B[0;34m.\u001B[0m\u001B[0mdtype\u001B[0m\u001B[0;34m.\u001B[0m\u001B[0mkind\u001B[0m \u001B[0;34m==\u001B[0m \u001B[0;34m'O'\u001B[0m\u001B[0;34m:\u001B[0m\u001B[0;34m\u001B[0m\u001B[0;34m\u001B[0m\u001B[0m\n",
      "\u001B[0;32m~/uni/sem6/ml/lab1/venv/lib/python3.8/site-packages/sklearn/utils/validation.py\u001B[0m in \u001B[0;36minner_f\u001B[0;34m(*args, **kwargs)\u001B[0m\n\u001B[1;32m     61\u001B[0m             \u001B[0mextra_args\u001B[0m \u001B[0;34m=\u001B[0m \u001B[0mlen\u001B[0m\u001B[0;34m(\u001B[0m\u001B[0margs\u001B[0m\u001B[0;34m)\u001B[0m \u001B[0;34m-\u001B[0m \u001B[0mlen\u001B[0m\u001B[0;34m(\u001B[0m\u001B[0mall_args\u001B[0m\u001B[0;34m)\u001B[0m\u001B[0;34m\u001B[0m\u001B[0;34m\u001B[0m\u001B[0m\n\u001B[1;32m     62\u001B[0m             \u001B[0;32mif\u001B[0m \u001B[0mextra_args\u001B[0m \u001B[0;34m<=\u001B[0m \u001B[0;36m0\u001B[0m\u001B[0;34m:\u001B[0m\u001B[0;34m\u001B[0m\u001B[0;34m\u001B[0m\u001B[0m\n\u001B[0;32m---> 63\u001B[0;31m                 \u001B[0;32mreturn\u001B[0m \u001B[0mf\u001B[0m\u001B[0;34m(\u001B[0m\u001B[0;34m*\u001B[0m\u001B[0margs\u001B[0m\u001B[0;34m,\u001B[0m \u001B[0;34m**\u001B[0m\u001B[0mkwargs\u001B[0m\u001B[0;34m)\u001B[0m\u001B[0;34m\u001B[0m\u001B[0;34m\u001B[0m\u001B[0m\n\u001B[0m\u001B[1;32m     64\u001B[0m \u001B[0;34m\u001B[0m\u001B[0m\n\u001B[1;32m     65\u001B[0m             \u001B[0;31m# extra_args > 0\u001B[0m\u001B[0;34m\u001B[0m\u001B[0;34m\u001B[0m\u001B[0;34m\u001B[0m\u001B[0m\n",
      "\u001B[0;32m~/uni/sem6/ml/lab1/venv/lib/python3.8/site-packages/sklearn/utils/validation.py\u001B[0m in \u001B[0;36mcolumn_or_1d\u001B[0;34m(y, warn)\u001B[0m\n\u001B[1;32m    862\u001B[0m         \u001B[0;32mreturn\u001B[0m \u001B[0mnp\u001B[0m\u001B[0;34m.\u001B[0m\u001B[0mravel\u001B[0m\u001B[0;34m(\u001B[0m\u001B[0my\u001B[0m\u001B[0;34m)\u001B[0m\u001B[0;34m\u001B[0m\u001B[0;34m\u001B[0m\u001B[0m\n\u001B[1;32m    863\u001B[0m \u001B[0;34m\u001B[0m\u001B[0m\n\u001B[0;32m--> 864\u001B[0;31m     raise ValueError(\n\u001B[0m\u001B[1;32m    865\u001B[0m         \u001B[0;34m\"y should be a 1d array, \"\u001B[0m\u001B[0;34m\u001B[0m\u001B[0;34m\u001B[0m\u001B[0m\n\u001B[1;32m    866\u001B[0m         \"got an array of shape {} instead.\".format(shape))\n",
      "\u001B[0;31mValueError\u001B[0m: y should be a 1d array, got an array of shape (5, 14) instead."
     ]
    }
   ],
   "source": [
    "score_basic_kmeans(final_data_np, \"k-means++\")"
   ],
   "metadata": {
    "collapsed": false,
    "pycharm": {
     "name": "#%%\n"
    }
   }
  },
  {
   "cell_type": "code",
   "execution_count": 181,
   "outputs": [
    {
     "data": {
      "text/plain": "0.741583411547548"
     },
     "execution_count": 181,
     "metadata": {},
     "output_type": "execute_result"
    }
   ],
   "source": [
    "score_basic_kmeans(final_data_np, \"random\")"
   ],
   "metadata": {
    "collapsed": false,
    "pycharm": {
     "name": "#%%\n"
    }
   }
  },
  {
   "cell_type": "code",
   "execution_count": 182,
   "outputs": [],
   "source": [
    "def get_random(X, n_clusters, random_state):\n",
    "    X = np.array(X)\n",
    "    res = [random.sample(list(X[:, i]), n_clusters) for i in range(X.shape[1])]\n",
    "    return np.stack(res, axis=1)"
   ],
   "metadata": {
    "collapsed": false,
    "pycharm": {
     "name": "#%%\n"
    }
   }
  },
  {
   "cell_type": "code",
   "execution_count": 183,
   "outputs": [
    {
     "data": {
      "text/plain": "0.6257642173514324"
     },
     "execution_count": 183,
     "metadata": {},
     "output_type": "execute_result"
    }
   ],
   "source": [
    "score_basic_kmeans(final_data_np, get_random)"
   ],
   "metadata": {
    "collapsed": false,
    "pycharm": {
     "name": "#%%\n"
    }
   }
  },
  {
   "cell_type": "markdown",
   "source": [
    "Dane które mają % daily value przeskalować przez 100, Calories, Sugar, Protein - znaleźć dane o dziennym spożyciu i podzielić xD"
   ],
   "metadata": {
    "collapsed": false,
    "pycharm": {
     "name": "#%% md\n"
    }
   }
  },
  {
   "cell_type": "code",
   "execution_count": 142,
   "outputs": [],
   "source": [
    "scaler = StandardScaler()\n",
    "scaled_data = scaler.fit_transform(final_data_np)"
   ],
   "metadata": {
    "collapsed": false,
    "pycharm": {
     "name": "#%%\n"
    }
   }
  },
  {
   "cell_type": "code",
   "execution_count": 186,
   "outputs": [
    {
     "data": {
      "text/plain": "1.2727880875687627"
     },
     "execution_count": 186,
     "metadata": {},
     "output_type": "execute_result"
    }
   ],
   "source": [
    "score_basic_kmeans(scaled_data, \"random\")"
   ],
   "metadata": {
    "collapsed": false,
    "pycharm": {
     "name": "#%%\n"
    }
   }
  },
  {
   "cell_type": "code",
   "execution_count": 234,
   "outputs": [],
   "source": [
    "NUM_ATTEMPTS = 5\n",
    "NUM_CLUSTERS = 5\n",
    "NUM_ITER = 50\n",
    "\n",
    "def assess_method(data_sample, method):\n",
    "    scores = []\n",
    "\n",
    "    for sample in range(NUM_ATTEMPTS):\n",
    "        print('\\nCentroid attempt: ', sample)\n",
    "        km = KMeans(n_clusters=NUM_CLUSTERS, init=method, max_iter=1, n_init=1)#, verbose=1)\n",
    "        km.fit(data_sample)\n",
    "        scores.append([])\n",
    "        cents = km.cluster_centers_\n",
    "\n",
    "        for iter in range(NUM_ITER):\n",
    "            km = KMeans(n_clusters=NUM_CLUSTERS, init=cents, max_iter=1, n_init=1)\n",
    "            km.fit(data_sample)\n",
    "            scores[sample].append(davies_bouldin_score(data_sample, km.labels_))\n",
    "            cents = km.cluster_centers_\n",
    "    return np.array(scores)"
   ],
   "metadata": {
    "collapsed": false,
    "pycharm": {
     "name": "#%%\n"
    }
   }
  },
  {
   "cell_type": "code",
   "execution_count": 235,
   "outputs": [
    {
     "name": "stdout",
     "output_type": "stream",
     "text": [
      "\n",
      "Centroid attempt:  0\n",
      "\n",
      "Centroid attempt:  1\n",
      "\n",
      "Centroid attempt:  2\n",
      "\n",
      "Centroid attempt:  3\n",
      "\n",
      "Centroid attempt:  4\n",
      "(5, 50)\n"
     ]
    }
   ],
   "source": [
    "assessment = assess_method(final_data, \"random\")\n",
    "print(assessment.shape)"
   ],
   "metadata": {
    "collapsed": false,
    "pycharm": {
     "name": "#%%\n"
    }
   }
  },
  {
   "cell_type": "code",
   "execution_count": 264,
   "outputs": [],
   "source": [
    "def plot_assessment(assessment, xlabel=\"iteration\", ylabel=\"davies_bouldin_score\"):\n",
    "    assessment = assessment.T\n",
    "    stds = [np.std(res) for res in assessment]\n",
    "    means = [np.mean(res) for res in assessment]\n",
    "    plt.bar(range(assessment.shape[0]), means, yerr=stds, align='center', alpha=0.5, ecolor='black', capsize=3)\n",
    "    # plt.xticks(range(assessment.shape[1]))\n",
    "    plt.xlabel(xlabel)\n",
    "    plt.ylabel(ylabel)\n",
    "    plt.show()"
   ],
   "metadata": {
    "collapsed": false,
    "pycharm": {
     "name": "#%%\n"
    }
   }
  },
  {
   "cell_type": "code",
   "execution_count": 265,
   "outputs": [
    {
     "data": {
      "text/plain": "<Figure size 432x288 with 1 Axes>",
      "image/png": "[encoded data removed]"
     },
     "metadata": {
      "needs_background": "light"
     },
     "output_type": "display_data"
    }
   ],
   "source": [
    "plot_assessment(assessment)"
   ],
   "metadata": {
    "collapsed": false,
    "pycharm": {
     "name": "#%%\n"
    }
   }
  },
  {
   "cell_type": "code",
   "execution_count": 256,
   "outputs": [],
   "source": [
    "best_method = \"random\"\n",
    "def assess_k(data, ns_clusters, repetitions):\n",
    "    k_scores = []\n",
    "    for k in range(len(ns_clusters)):\n",
    "        k_scores.append([])\n",
    "        for i in range(repetitions):\n",
    "            kmeans = KMeans(n_clusters=ns_clusters[k], init=best_method)\n",
    "            kmeans.fit(data)\n",
    "            k_scores[k].append(davies_bouldin_score(data, kmeans.labels_))\n",
    "        k_scores[k] = np.array(k_scores[k])\n",
    "    return np.array(k_scores)"
   ],
   "metadata": {
    "collapsed": false,
    "pycharm": {
     "name": "#%%\n"
    }
   }
  },
  {
   "cell_type": "code",
   "execution_count": 266,
   "outputs": [
    {
     "name": "stdout",
     "output_type": "stream",
     "text": [
      "[[0.72563915 0.72295101 0.72563915 0.72563915 0.72217683]\n",
      " [0.73959068 0.73891377 0.73959068 0.73871356 0.56359074]\n",
      " [0.74158341 0.74158341 0.74158341 0.74158341 0.74158341]\n",
      " [0.83622303 0.74581917 0.69360866 0.74581917 0.68725074]\n",
      " [0.64958636 0.85656182 0.70467301 0.67349873 0.72822381]\n",
      " [0.92793007 0.77515331 0.82838225 0.81448823 0.78521344]\n",
      " [0.85738557 0.85376477 0.83765994 0.8588889  0.8606677 ]\n",
      " [0.84614949 0.87050949 0.89603738 0.84614949 0.99373322]\n",
      " [0.88445996 0.93984763 0.82045307 0.77983886 0.88103983]\n",
      " [0.73620223 0.88803687 0.94365036 0.75796525 0.91674282]\n",
      " [0.96586731 0.97418791 0.98485539 0.92424556 0.77622478]\n",
      " [0.94746184 0.9129609  1.04998649 0.91224141 0.85174119]\n",
      " [0.92593172 0.87194236 0.95881116 0.92742994 0.84493357]\n",
      " [0.95231462 0.78370422 0.93147681 0.86709948 0.94311244]\n",
      " [0.89709921 0.8332177  0.97692171 0.84999591 0.94842815]\n",
      " [0.87962739 0.98523476 0.83106693 1.0707065  0.99938416]\n",
      " [0.94770847 0.9814615  0.97180442 0.9600928  0.882338  ]\n",
      " [0.87811775 0.95725202 0.87429506 0.87954482 0.94186677]\n",
      " [0.96111146 0.89083509 0.9745545  0.91411658 0.91442896]\n",
      " [0.92739668 0.80625802 1.02659422 0.82687297 0.91394099]\n",
      " [1.02981766 0.92431231 0.92995991 0.81588944 0.84960856]\n",
      " [0.93199126 0.89728974 0.94184409 0.99256609 0.94786975]]\n"
     ]
    }
   ],
   "source": [
    "k_range = range(3, 25)\n",
    "k_assessment = assess_k(final_data, k_range, 5)\n",
    "print(k_assessment)"
   ],
   "metadata": {
    "collapsed": false,
    "pycharm": {
     "name": "#%%\n"
    }
   }
  },
  {
   "cell_type": "code",
   "execution_count": 270,
   "outputs": [],
   "source": [
    "def plot_k_assessment(assessment, k_range):\n",
    "    stds = [np.std(res) for res in assessment]\n",
    "    means = [np.mean(res) for res in assessment]\n",
    "    plt.bar(k_range, means, yerr=stds, align='center', alpha=0.5, ecolor='black', capsize=3)\n",
    "    plt.xticks(k_range)\n",
    "    plt.xlabel(\"k\")\n",
    "    plt.ylabel(\"davies_bouldin_score\")\n",
    "    plt.show()"
   ],
   "metadata": {
    "collapsed": false,
    "pycharm": {
     "name": "#%%\n"
    }
   }
  },
  {
   "cell_type": "code",
   "execution_count": 271,
   "outputs": [
    {
     "data": {
      "text/plain": "<Figure size 432x288 with 1 Axes>",
      "image/png": "[encoded data removed]"
     },
     "metadata": {
      "needs_background": "light"
     },
     "output_type": "display_data"
    }
   ],
   "source": [
    "plot_k_assessment(k_assessment, k_range)\n",
    "\n",
    "\n"
   ],
   "metadata": {
    "collapsed": false,
    "pycharm": {
     "name": "#%%\n"
    }
   }
  }
 ],
 "metadata": {
  "kernelspec": {
   "display_name": "Python 3",
   "language": "python",
   "name": "python3"
  },
  "language_info": {
   "codemirror_mode": {
    "name": "ipython",
    "version": 2
   },
   "file_extension": ".py",
   "mimetype": "text/x-python",
   "name": "python",
   "nbconvert_exporter": "python",
   "pygments_lexer": "ipython2",
   "version": "2.7.6"
  }
 },
 "nbformat": 4,
 "nbformat_minor": 0
}