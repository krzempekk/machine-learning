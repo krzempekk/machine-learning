{
 "cells": [
  {
   "cell_type": "code",
   "execution_count": 115,
   "metadata": {
    "collapsed": true
   },
   "outputs": [],
   "source": [
    "import numpy as np\n",
    "import matplotlib.pyplot as plt\n",
    "import matplotlib.patches as mpatches\n",
    "import pandas as pd\n",
    "import seaborn as sb\n",
    "from sklearn.cluster import KMeans\n",
    "from sklearn.metrics import davies_bouldin_score\n",
    "from sklearn.preprocessing import StandardScaler\n",
    "from sklearn.decomposition import PCA\n",
    "import random"
   ]
  },
  {
   "cell_type": "code",
   "execution_count": 2,
   "outputs": [],
   "source": [
    "data = pd.read_csv('menu.csv')"
   ],
   "metadata": {
    "collapsed": false,
    "pycharm": {
     "name": "#%%\n"
    }
   }
  },
  {
   "cell_type": "code",
   "execution_count": 3,
   "outputs": [
    {
     "name": "stdout",
     "output_type": "stream",
     "text": [
      "0       4.8 oz (136 g)\n",
      "1       4.8 oz (135 g)\n",
      "2       3.9 oz (111 g)\n",
      "3       5.7 oz (161 g)\n",
      "4       5.7 oz (161 g)\n",
      "            ...       \n",
      "255    10.1 oz (285 g)\n",
      "256    13.4 oz (381 g)\n",
      "257     6.7 oz (190 g)\n",
      "258    14.2 oz (403 g)\n",
      "259     7.1 oz (202 g)\n",
      "Name: Serving Size, Length: 260, dtype: object\n"
     ]
    }
   ],
   "source": [
    "print(data['Serving Size'])"
   ],
   "metadata": {
    "collapsed": false,
    "pycharm": {
     "name": "#%%\n"
    }
   }
  },
  {
   "cell_type": "markdown",
   "source": [
    "Nie powinny wchodzić w skład wektora cech:\n",
    "* category (z nimi będziemy porównywać)\n",
    "* item (nazwy nie da się interpretować)\n",
    "* serving size (różne jednostki - gramatura, objętość)"
   ],
   "metadata": {
    "collapsed": false,
    "pycharm": {
     "name": "#%% md\n"
    }
   }
  },
  {
   "cell_type": "code",
   "execution_count": 4,
   "outputs": [
    {
     "data": {
      "text/plain": "          Calories  Calories from Fat   Total Fat  Total Fat (% Daily Value)  \\\ncount   260.000000         260.000000  260.000000                 260.000000   \nmean    368.269231         127.096154   14.165385                  21.815385   \nstd     240.269886         127.875914   14.205998                  21.885199   \nmin       0.000000           0.000000    0.000000                   0.000000   \n25%     210.000000          20.000000    2.375000                   3.750000   \n50%     340.000000         100.000000   11.000000                  17.000000   \n75%     500.000000         200.000000   22.250000                  35.000000   \nmax    1880.000000        1060.000000  118.000000                 182.000000   \n\n       Saturated Fat  Saturated Fat (% Daily Value)   Trans Fat  Cholesterol  \\\ncount     260.000000                     260.000000  260.000000   260.000000   \nmean        6.007692                      29.965385    0.203846    54.942308   \nstd         5.321873                      26.639209    0.429133    87.269257   \nmin         0.000000                       0.000000    0.000000     0.000000   \n25%         1.000000                       4.750000    0.000000     5.000000   \n50%         5.000000                      24.000000    0.000000    35.000000   \n75%        10.000000                      48.000000    0.000000    65.000000   \nmax        20.000000                     102.000000    2.500000   575.000000   \n\n       Cholesterol (% Daily Value)       Sodium  ...  Carbohydrates  \\\ncount                   260.000000   260.000000  ...     260.000000   \nmean                     18.392308   495.750000  ...      47.346154   \nstd                      29.091653   577.026323  ...      28.252232   \nmin                       0.000000     0.000000  ...       0.000000   \n25%                       2.000000   107.500000  ...      30.000000   \n50%                      11.000000   190.000000  ...      44.000000   \n75%                      21.250000   865.000000  ...      60.000000   \nmax                     192.000000  3600.000000  ...     141.000000   \n\n       Carbohydrates (% Daily Value)  Dietary Fiber  \\\ncount                     260.000000     260.000000   \nmean                       15.780769       1.630769   \nstd                         9.419544       1.567717   \nmin                         0.000000       0.000000   \n25%                        10.000000       0.000000   \n50%                        15.000000       1.000000   \n75%                        20.000000       3.000000   \nmax                        47.000000       7.000000   \n\n       Dietary Fiber (% Daily Value)      Sugars     Protein  \\\ncount                     260.000000  260.000000  260.000000   \nmean                        6.530769   29.423077   13.338462   \nstd                         6.307057   28.679797   11.426146   \nmin                         0.000000    0.000000    0.000000   \n25%                         0.000000    5.750000    4.000000   \n50%                         5.000000   17.500000   12.000000   \n75%                        10.000000   48.000000   19.000000   \nmax                        28.000000  128.000000   87.000000   \n\n       Vitamin A (% Daily Value)  Vitamin C (% Daily Value)  \\\ncount                 260.000000                 260.000000   \nmean                   13.426923                   8.534615   \nstd                    24.366381                  26.345542   \nmin                     0.000000                   0.000000   \n25%                     2.000000                   0.000000   \n50%                     8.000000                   0.000000   \n75%                    15.000000                   4.000000   \nmax                   170.000000                 240.000000   \n\n       Calcium (% Daily Value)  Iron (% Daily Value)  \ncount               260.000000            260.000000  \nmean                 20.973077              7.734615  \nstd                  17.019953              8.723263  \nmin                   0.000000              0.000000  \n25%                   6.000000              0.000000  \n50%                  20.000000              4.000000  \n75%                  30.000000             15.000000  \nmax                  70.000000             40.000000  \n\n[8 rows x 21 columns]",
      "text/html": "<div>\n<style scoped>\n    .dataframe tbody tr th:only-of-type {\n        vertical-align: middle;\n    }\n\n    .dataframe tbody tr th {\n        vertical-align: top;\n    }\n\n    .dataframe thead th {\n        text-align: right;\n    }\n</style>\n<table border=\"1\" class=\"dataframe\">\n  <thead>\n    <tr style=\"text-align: right;\">\n      <th></th>\n      <th>Calories</th>\n      <th>Calories from Fat</th>\n      <th>Total Fat</th>\n      <th>Total Fat (% Daily Value)</th>\n      <th>Saturated Fat</th>\n      <th>Saturated Fat (% Daily Value)</th>\n      <th>Trans Fat</th>\n      <th>Cholesterol</th>\n      <th>Cholesterol (% Daily Value)</th>\n      <th>Sodium</th>\n      <th>...</th>\n      <th>Carbohydrates</th>\n      <th>Carbohydrates (% Daily Value)</th>\n      <th>Dietary Fiber</th>\n      <th>Dietary Fiber (% Daily Value)</th>\n      <th>Sugars</th>\n      <th>Protein</th>\n      <th>Vitamin A (% Daily Value)</th>\n      <th>Vitamin C (% Daily Value)</th>\n      <th>Calcium (% Daily Value)</th>\n      <th>Iron (% Daily Value)</th>\n    </tr>\n  </thead>\n  <tbody>\n    <tr>\n      <th>count</th>\n      <td>260.000000</td>\n      <td>260.000000</td>\n      <td>260.000000</td>\n      <td>260.000000</td>\n      <td>260.000000</td>\n      <td>260.000000</td>\n      <td>260.000000</td>\n      <td>260.000000</td>\n      <td>260.000000</td>\n      <td>260.000000</td>\n      <td>...</td>\n      <td>260.000000</td>\n      <td>260.000000</td>\n      <td>260.000000</td>\n      <td>260.000000</td>\n      <td>260.000000</td>\n      <td>260.000000</td>\n      <td>260.000000</td>\n      <td>260.000000</td>\n      <td>260.000000</td>\n      <td>260.000000</td>\n    </tr>\n    <tr>\n      <th>mean</th>\n      <td>368.269231</td>\n      <td>127.096154</td>\n      <td>14.165385</td>\n      <td>21.815385</td>\n      <td>6.007692</td>\n      <td>29.965385</td>\n      <td>0.203846</td>\n      <td>54.942308</td>\n      <td>18.392308</td>\n      <td>495.750000</td>\n      <td>...</td>\n      <td>47.346154</td>\n      <td>15.780769</td>\n      <td>1.630769</td>\n      <td>6.530769</td>\n      <td>29.423077</td>\n      <td>13.338462</td>\n      <td>13.426923</td>\n      <td>8.534615</td>\n      <td>20.973077</td>\n      <td>7.734615</td>\n    </tr>\n    <tr>\n      <th>std</th>\n      <td>240.269886</td>\n      <td>127.875914</td>\n      <td>14.205998</td>\n      <td>21.885199</td>\n      <td>5.321873</td>\n      <td>26.639209</td>\n      <td>0.429133</td>\n      <td>87.269257</td>\n      <td>29.091653</td>\n      <td>577.026323</td>\n      <td>...</td>\n      <td>28.252232</td>\n      <td>9.419544</td>\n      <td>1.567717</td>\n      <td>6.307057</td>\n      <td>28.679797</td>\n      <td>11.426146</td>\n      <td>24.366381</td>\n      <td>26.345542</td>\n      <td>17.019953</td>\n      <td>8.723263</td>\n    </tr>\n    <tr>\n      <th>min</th>\n      <td>0.000000</td>\n      <td>0.000000</td>\n      <td>0.000000</td>\n      <td>0.000000</td>\n      <td>0.000000</td>\n      <td>0.000000</td>\n      <td>0.000000</td>\n      <td>0.000000</td>\n      <td>0.000000</td>\n      <td>0.000000</td>\n      <td>...</td>\n      <td>0.000000</td>\n      <td>0.000000</td>\n      <td>0.000000</td>\n      <td>0.000000</td>\n      <td>0.000000</td>\n      <td>0.000000</td>\n      <td>0.000000</td>\n      <td>0.000000</td>\n      <td>0.000000</td>\n      <td>0.000000</td>\n    </tr>\n    <tr>\n      <th>25%</th>\n      <td>210.000000</td>\n      <td>20.000000</td>\n      <td>2.375000</td>\n      <td>3.750000</td>\n      <td>1.000000</td>\n      <td>4.750000</td>\n      <td>0.000000</td>\n      <td>5.000000</td>\n      <td>2.000000</td>\n      <td>107.500000</td>\n      <td>...</td>\n      <td>30.000000</td>\n      <td>10.000000</td>\n      <td>0.000000</td>\n      <td>0.000000</td>\n      <td>5.750000</td>\n      <td>4.000000</td>\n      <td>2.000000</td>\n      <td>0.000000</td>\n      <td>6.000000</td>\n      <td>0.000000</td>\n    </tr>\n    <tr>\n      <th>50%</th>\n      <td>340.000000</td>\n      <td>100.000000</td>\n      <td>11.000000</td>\n      <td>17.000000</td>\n      <td>5.000000</td>\n      <td>24.000000</td>\n      <td>0.000000</td>\n      <td>35.000000</td>\n      <td>11.000000</td>\n      <td>190.000000</td>\n      <td>...</td>\n      <td>44.000000</td>\n      <td>15.000000</td>\n      <td>1.000000</td>\n      <td>5.000000</td>\n      <td>17.500000</td>\n      <td>12.000000</td>\n      <td>8.000000</td>\n      <td>0.000000</td>\n      <td>20.000000</td>\n      <td>4.000000</td>\n    </tr>\n    <tr>\n      <th>75%</th>\n      <td>500.000000</td>\n      <td>200.000000</td>\n      <td>22.250000</td>\n      <td>35.000000</td>\n      <td>10.000000</td>\n      <td>48.000000</td>\n      <td>0.000000</td>\n      <td>65.000000</td>\n      <td>21.250000</td>\n      <td>865.000000</td>\n      <td>...</td>\n      <td>60.000000</td>\n      <td>20.000000</td>\n      <td>3.000000</td>\n      <td>10.000000</td>\n      <td>48.000000</td>\n      <td>19.000000</td>\n      <td>15.000000</td>\n      <td>4.000000</td>\n      <td>30.000000</td>\n      <td>15.000000</td>\n    </tr>\n    <tr>\n      <th>max</th>\n      <td>1880.000000</td>\n      <td>1060.000000</td>\n      <td>118.000000</td>\n      <td>182.000000</td>\n      <td>20.000000</td>\n      <td>102.000000</td>\n      <td>2.500000</td>\n      <td>575.000000</td>\n      <td>192.000000</td>\n      <td>3600.000000</td>\n      <td>...</td>\n      <td>141.000000</td>\n      <td>47.000000</td>\n      <td>7.000000</td>\n      <td>28.000000</td>\n      <td>128.000000</td>\n      <td>87.000000</td>\n      <td>170.000000</td>\n      <td>240.000000</td>\n      <td>70.000000</td>\n      <td>40.000000</td>\n    </tr>\n  </tbody>\n</table>\n<p>8 rows × 21 columns</p>\n</div>"
     },
     "execution_count": 4,
     "metadata": {},
     "output_type": "execute_result"
    }
   ],
   "source": [
    "data.describe()"
   ],
   "metadata": {
    "collapsed": false,
    "pycharm": {
     "name": "#%%\n"
    }
   }
  },
  {
   "cell_type": "code",
   "execution_count": 5,
   "outputs": [
    {
     "data": {
      "text/plain": "count              260\nunique             107\ntop       16 fl oz cup\nfreq                45\nName: Serving Size, dtype: object"
     },
     "execution_count": 5,
     "metadata": {},
     "output_type": "execute_result"
    }
   ],
   "source": [
    "data['Serving Size'].describe()"
   ],
   "metadata": {
    "collapsed": false,
    "pycharm": {
     "name": "#%%\n"
    }
   }
  },
  {
   "cell_type": "code",
   "execution_count": 6,
   "outputs": [],
   "source": [
    "data = data.drop(columns=['Category', 'Item', 'Serving Size'])"
   ],
   "metadata": {
    "collapsed": false,
    "pycharm": {
     "name": "#%%\n"
    }
   }
  },
  {
   "cell_type": "code",
   "execution_count": 7,
   "outputs": [],
   "source": [
    "data_np = data.to_numpy()"
   ],
   "metadata": {
    "collapsed": false,
    "pycharm": {
     "name": "#%%\n"
    }
   }
  },
  {
   "cell_type": "code",
   "execution_count": 8,
   "outputs": [
    {
     "name": "stdout",
     "output_type": "stream",
     "text": [
      "[[300. 120.  13. ...   0.  25.  15.]\n",
      " [250.  70.   8. ...   0.  25.   8.]\n",
      " [370. 200.  23. ...   0.  25.  10.]\n",
      " ...\n",
      " [340. 100.  11. ...   0.  25.   6.]\n",
      " [810. 290.  32. ...   0.  60.   6.]\n",
      " [410. 150.  16. ...   0.  30.   4.]]\n"
     ]
    }
   ],
   "source": [
    "print(data_np)"
   ],
   "metadata": {
    "collapsed": false,
    "pycharm": {
     "name": "#%%\n"
    }
   }
  },
  {
   "cell_type": "code",
   "execution_count": 9,
   "outputs": [],
   "source": [
    "corr = np.corrcoef(data_np, rowvar=False)"
   ],
   "metadata": {
    "collapsed": false,
    "pycharm": {
     "name": "#%%\n"
    }
   }
  },
  {
   "cell_type": "code",
   "execution_count": 10,
   "outputs": [
    {
     "data": {
      "text/plain": "<AxesSubplot:>"
     },
     "execution_count": 10,
     "metadata": {},
     "output_type": "execute_result"
    },
    {
     "data": {
      "text/plain": "<Figure size 432x288 with 2 Axes>",
      "image/png": "[encoded data removed]"
     },
     "metadata": {
      "needs_background": "light"
     },
     "output_type": "display_data"
    }
   ],
   "source": [
    "sb.heatmap(corr)"
   ],
   "metadata": {
    "collapsed": false,
    "pycharm": {
     "name": "#%%\n"
    }
   }
  },
  {
   "cell_type": "markdown",
   "source": [
    "Wycentrowanie nie jest konieczne, jednak ułatwi skalowanie."
   ],
   "metadata": {
    "collapsed": false,
    "pycharm": {
     "name": "#%% md\n"
    }
   }
  },
  {
   "cell_type": "code",
   "execution_count": 11,
   "outputs": [
    {
     "data": {
      "text/plain": "count     260.000000\nmean      368.269231\nstd       240.269886\nmin         0.000000\n25%       210.000000\n50%       340.000000\n75%       500.000000\nmax      1880.000000\nName: Calories, dtype: float64"
     },
     "execution_count": 11,
     "metadata": {},
     "output_type": "execute_result"
    }
   ],
   "source": [
    "data['Calories'].describe()"
   ],
   "metadata": {
    "collapsed": false,
    "pycharm": {
     "name": "#%%\n"
    }
   }
  },
  {
   "cell_type": "code",
   "execution_count": 12,
   "outputs": [
    {
     "data": {
      "text/plain": "count    260.000000\nmean      29.423077\nstd       28.679797\nmin        0.000000\n25%        5.750000\n50%       17.500000\n75%       48.000000\nmax      128.000000\nName: Sugars, dtype: float64"
     },
     "execution_count": 12,
     "metadata": {},
     "output_type": "execute_result"
    }
   ],
   "source": [
    "data['Sugars'].describe()"
   ],
   "metadata": {
    "collapsed": false,
    "pycharm": {
     "name": "#%%\n"
    }
   }
  },
  {
   "cell_type": "code",
   "execution_count": 13,
   "outputs": [
    {
     "data": {
      "text/plain": "count    260.000000\nmean      13.338462\nstd       11.426146\nmin        0.000000\n25%        4.000000\n50%       12.000000\n75%       19.000000\nmax       87.000000\nName: Protein, dtype: float64"
     },
     "execution_count": 13,
     "metadata": {},
     "output_type": "execute_result"
    }
   ],
   "source": [
    "data['Protein'].describe()"
   ],
   "metadata": {
    "collapsed": false,
    "pycharm": {
     "name": "#%%\n"
    }
   }
  },
  {
   "cell_type": "code",
   "execution_count": 14,
   "outputs": [
    {
     "data": {
      "text/plain": "count    260.000000\nmean       0.203846\nstd        0.429133\nmin        0.000000\n25%        0.000000\n50%        0.000000\n75%        0.000000\nmax        2.500000\nName: Trans Fat, dtype: float64"
     },
     "execution_count": 14,
     "metadata": {},
     "output_type": "execute_result"
    }
   ],
   "source": [
    "data['Trans Fat'].describe()"
   ],
   "metadata": {
    "collapsed": false,
    "pycharm": {
     "name": "#%%\n"
    }
   }
  },
  {
   "cell_type": "code",
   "execution_count": 15,
   "outputs": [
    {
     "name": "stdout",
     "output_type": "stream",
     "text": [
      "21\n"
     ]
    }
   ],
   "source": [
    "print(data.shape[1])\n"
   ],
   "metadata": {
    "collapsed": false,
    "pycharm": {
     "name": "#%%\n"
    }
   }
  },
  {
   "cell_type": "code",
   "execution_count": 16,
   "outputs": [],
   "source": [
    "data_reduced = data.drop(columns=['Total Fat', 'Saturated Fat', 'Cholesterol', 'Sodium', 'Carbohydrates', 'Dietary Fiber'])"
   ],
   "metadata": {
    "collapsed": false,
    "pycharm": {
     "name": "#%%\n"
    }
   }
  },
  {
   "cell_type": "code",
   "execution_count": 17,
   "outputs": [],
   "source": [
    "data_reduced_np = data_reduced.to_numpy()"
   ],
   "metadata": {
    "collapsed": false,
    "pycharm": {
     "name": "#%%\n"
    }
   }
  },
  {
   "cell_type": "code",
   "execution_count": 18,
   "outputs": [
    {
     "data": {
      "text/plain": "<AxesSubplot:>"
     },
     "execution_count": 18,
     "metadata": {},
     "output_type": "execute_result"
    },
    {
     "data": {
      "text/plain": "<Figure size 432x288 with 2 Axes>",
      "image/png": "[encoded data removed]"
     },
     "metadata": {
      "needs_background": "light"
     },
     "output_type": "display_data"
    }
   ],
   "source": [
    "sb.heatmap(np.corrcoef(data_reduced_np, rowvar=False))\n"
   ],
   "metadata": {
    "collapsed": false,
    "pycharm": {
     "name": "#%%\n"
    }
   }
  },
  {
   "cell_type": "code",
   "execution_count": 19,
   "outputs": [
    {
     "data": {
      "text/plain": "array([[1.       , 0.9996635],\n       [0.9996635, 1.       ]])"
     },
     "execution_count": 19,
     "metadata": {},
     "output_type": "execute_result"
    }
   ],
   "source": [
    "np.corrcoef(data['Total Fat'], data['Calories from Fat'])"
   ],
   "metadata": {
    "collapsed": false,
    "pycharm": {
     "name": "#%%\n"
    }
   }
  },
  {
   "cell_type": "code",
   "execution_count": 20,
   "outputs": [
    {
     "data": {
      "text/plain": "          Calories  Calories from Fat  Total Fat (% Daily Value)  \\\ncount   260.000000         260.000000                 260.000000   \nmean    368.269231         127.096154                  21.815385   \nstd     240.269886         127.875914                  21.885199   \nmin       0.000000           0.000000                   0.000000   \n25%     210.000000          20.000000                   3.750000   \n50%     340.000000         100.000000                  17.000000   \n75%     500.000000         200.000000                  35.000000   \nmax    1880.000000        1060.000000                 182.000000   \n\n       Saturated Fat (% Daily Value)   Trans Fat  Cholesterol (% Daily Value)  \\\ncount                     260.000000  260.000000                   260.000000   \nmean                       29.965385    0.203846                    18.392308   \nstd                        26.639209    0.429133                    29.091653   \nmin                         0.000000    0.000000                     0.000000   \n25%                         4.750000    0.000000                     2.000000   \n50%                        24.000000    0.000000                    11.000000   \n75%                        48.000000    0.000000                    21.250000   \nmax                       102.000000    2.500000                   192.000000   \n\n       Sodium (% Daily Value)  Carbohydrates (% Daily Value)  \\\ncount              260.000000                     260.000000   \nmean                20.676923                      15.780769   \nstd                 24.034954                       9.419544   \nmin                  0.000000                       0.000000   \n25%                  4.750000                      10.000000   \n50%                  8.000000                      15.000000   \n75%                 36.250000                      20.000000   \nmax                150.000000                      47.000000   \n\n       Dietary Fiber (% Daily Value)      Sugars     Protein  \\\ncount                     260.000000  260.000000  260.000000   \nmean                        6.530769   29.423077   13.338462   \nstd                         6.307057   28.679797   11.426146   \nmin                         0.000000    0.000000    0.000000   \n25%                         0.000000    5.750000    4.000000   \n50%                         5.000000   17.500000   12.000000   \n75%                        10.000000   48.000000   19.000000   \nmax                        28.000000  128.000000   87.000000   \n\n       Vitamin A (% Daily Value)  Vitamin C (% Daily Value)  \\\ncount                 260.000000                 260.000000   \nmean                   13.426923                   8.534615   \nstd                    24.366381                  26.345542   \nmin                     0.000000                   0.000000   \n25%                     2.000000                   0.000000   \n50%                     8.000000                   0.000000   \n75%                    15.000000                   4.000000   \nmax                   170.000000                 240.000000   \n\n       Calcium (% Daily Value)  Iron (% Daily Value)  \ncount               260.000000            260.000000  \nmean                 20.973077              7.734615  \nstd                  17.019953              8.723263  \nmin                   0.000000              0.000000  \n25%                   6.000000              0.000000  \n50%                  20.000000              4.000000  \n75%                  30.000000             15.000000  \nmax                  70.000000             40.000000  ",
      "text/html": "<div>\n<style scoped>\n    .dataframe tbody tr th:only-of-type {\n        vertical-align: middle;\n    }\n\n    .dataframe tbody tr th {\n        vertical-align: top;\n    }\n\n    .dataframe thead th {\n        text-align: right;\n    }\n</style>\n<table border=\"1\" class=\"dataframe\">\n  <thead>\n    <tr style=\"text-align: right;\">\n      <th></th>\n      <th>Calories</th>\n      <th>Calories from Fat</th>\n      <th>Total Fat (% Daily Value)</th>\n      <th>Saturated Fat (% Daily Value)</th>\n      <th>Trans Fat</th>\n      <th>Cholesterol (% Daily Value)</th>\n      <th>Sodium (% Daily Value)</th>\n      <th>Carbohydrates (% Daily Value)</th>\n      <th>Dietary Fiber (% Daily Value)</th>\n      <th>Sugars</th>\n      <th>Protein</th>\n      <th>Vitamin A (% Daily Value)</th>\n      <th>Vitamin C (% Daily Value)</th>\n      <th>Calcium (% Daily Value)</th>\n      <th>Iron (% Daily Value)</th>\n    </tr>\n  </thead>\n  <tbody>\n    <tr>\n      <th>count</th>\n      <td>260.000000</td>\n      <td>260.000000</td>\n      <td>260.000000</td>\n      <td>260.000000</td>\n      <td>260.000000</td>\n      <td>260.000000</td>\n      <td>260.000000</td>\n      <td>260.000000</td>\n      <td>260.000000</td>\n      <td>260.000000</td>\n      <td>260.000000</td>\n      <td>260.000000</td>\n      <td>260.000000</td>\n      <td>260.000000</td>\n      <td>260.000000</td>\n    </tr>\n    <tr>\n      <th>mean</th>\n      <td>368.269231</td>\n      <td>127.096154</td>\n      <td>21.815385</td>\n      <td>29.965385</td>\n      <td>0.203846</td>\n      <td>18.392308</td>\n      <td>20.676923</td>\n      <td>15.780769</td>\n      <td>6.530769</td>\n      <td>29.423077</td>\n      <td>13.338462</td>\n      <td>13.426923</td>\n      <td>8.534615</td>\n      <td>20.973077</td>\n      <td>7.734615</td>\n    </tr>\n    <tr>\n      <th>std</th>\n      <td>240.269886</td>\n      <td>127.875914</td>\n      <td>21.885199</td>\n      <td>26.639209</td>\n      <td>0.429133</td>\n      <td>29.091653</td>\n      <td>24.034954</td>\n      <td>9.419544</td>\n      <td>6.307057</td>\n      <td>28.679797</td>\n      <td>11.426146</td>\n      <td>24.366381</td>\n      <td>26.345542</td>\n      <td>17.019953</td>\n      <td>8.723263</td>\n    </tr>\n    <tr>\n      <th>min</th>\n      <td>0.000000</td>\n      <td>0.000000</td>\n      <td>0.000000</td>\n      <td>0.000000</td>\n      <td>0.000000</td>\n      <td>0.000000</td>\n      <td>0.000000</td>\n      <td>0.000000</td>\n      <td>0.000000</td>\n      <td>0.000000</td>\n      <td>0.000000</td>\n      <td>0.000000</td>\n      <td>0.000000</td>\n      <td>0.000000</td>\n      <td>0.000000</td>\n    </tr>\n    <tr>\n      <th>25%</th>\n      <td>210.000000</td>\n      <td>20.000000</td>\n      <td>3.750000</td>\n      <td>4.750000</td>\n      <td>0.000000</td>\n      <td>2.000000</td>\n      <td>4.750000</td>\n      <td>10.000000</td>\n      <td>0.000000</td>\n      <td>5.750000</td>\n      <td>4.000000</td>\n      <td>2.000000</td>\n      <td>0.000000</td>\n      <td>6.000000</td>\n      <td>0.000000</td>\n    </tr>\n    <tr>\n      <th>50%</th>\n      <td>340.000000</td>\n      <td>100.000000</td>\n      <td>17.000000</td>\n      <td>24.000000</td>\n      <td>0.000000</td>\n      <td>11.000000</td>\n      <td>8.000000</td>\n      <td>15.000000</td>\n      <td>5.000000</td>\n      <td>17.500000</td>\n      <td>12.000000</td>\n      <td>8.000000</td>\n      <td>0.000000</td>\n      <td>20.000000</td>\n      <td>4.000000</td>\n    </tr>\n    <tr>\n      <th>75%</th>\n      <td>500.000000</td>\n      <td>200.000000</td>\n      <td>35.000000</td>\n      <td>48.000000</td>\n      <td>0.000000</td>\n      <td>21.250000</td>\n      <td>36.250000</td>\n      <td>20.000000</td>\n      <td>10.000000</td>\n      <td>48.000000</td>\n      <td>19.000000</td>\n      <td>15.000000</td>\n      <td>4.000000</td>\n      <td>30.000000</td>\n      <td>15.000000</td>\n    </tr>\n    <tr>\n      <th>max</th>\n      <td>1880.000000</td>\n      <td>1060.000000</td>\n      <td>182.000000</td>\n      <td>102.000000</td>\n      <td>2.500000</td>\n      <td>192.000000</td>\n      <td>150.000000</td>\n      <td>47.000000</td>\n      <td>28.000000</td>\n      <td>128.000000</td>\n      <td>87.000000</td>\n      <td>170.000000</td>\n      <td>240.000000</td>\n      <td>70.000000</td>\n      <td>40.000000</td>\n    </tr>\n  </tbody>\n</table>\n</div>"
     },
     "execution_count": 20,
     "metadata": {},
     "output_type": "execute_result"
    }
   ],
   "source": [
    "data_reduced.describe()"
   ],
   "metadata": {
    "collapsed": false,
    "pycharm": {
     "name": "#%%\n"
    }
   }
  },
  {
   "cell_type": "code",
   "execution_count": 21,
   "outputs": [
    {
     "data": {
      "text/plain": "array([[1.       , 0.9045878],\n       [0.9045878, 1.       ]])"
     },
     "execution_count": 21,
     "metadata": {},
     "output_type": "execute_result"
    }
   ],
   "source": [
    "np.corrcoef(data_reduced['Calories'], data_reduced['Calories from Fat'])"
   ],
   "metadata": {
    "collapsed": false,
    "pycharm": {
     "name": "#%%\n"
    }
   }
  },
  {
   "cell_type": "code",
   "execution_count": 22,
   "outputs": [],
   "source": [
    "final_data = data_reduced.drop(columns=['Calories from Fat'])"
   ],
   "metadata": {
    "collapsed": false,
    "pycharm": {
     "name": "#%%\n"
    }
   }
  },
  {
   "cell_type": "code",
   "execution_count": 23,
   "outputs": [
    {
     "data": {
      "text/plain": "<AxesSubplot:>"
     },
     "execution_count": 23,
     "metadata": {},
     "output_type": "execute_result"
    },
    {
     "data": {
      "text/plain": "<Figure size 432x288 with 2 Axes>",
      "image/png": "[encoded data removed]"
     },
     "metadata": {
      "needs_background": "light"
     },
     "output_type": "display_data"
    }
   ],
   "source": [
    "sb.heatmap(np.corrcoef(final_data.to_numpy(), rowvar=False))"
   ],
   "metadata": {
    "collapsed": false,
    "pycharm": {
     "name": "#%%\n"
    }
   }
  },
  {
   "cell_type": "code",
   "execution_count": 114,
   "outputs": [],
   "source": [
    "# for column in final_data:\n",
    "#     plt.bar(range(final_data.shape[0]), final_data[column])\n",
    "#     plt.xlabel(column)\n",
    "#     plt.save()"
   ],
   "metadata": {
    "collapsed": false,
    "pycharm": {
     "name": "#%%\n"
    }
   }
  },
  {
   "cell_type": "code",
   "execution_count": 25,
   "outputs": [],
   "source": [
    "final_data_np = final_data.to_numpy()"
   ],
   "metadata": {
    "collapsed": false,
    "pycharm": {
     "name": "#%%\n"
    }
   }
  },
  {
   "cell_type": "code",
   "execution_count": 26,
   "outputs": [],
   "source": [
    "def score_basic_kmeans(data, func, verbose=False, n_clusters=5):\n",
    "    kmeans = KMeans(n_clusters=n_clusters, init=func, verbose=verbose)\n",
    "    kmeans.fit(data)\n",
    "    return davies_bouldin_score(data, kmeans.labels_)"
   ],
   "metadata": {
    "collapsed": false,
    "pycharm": {
     "name": "#%%\n"
    }
   }
  },
  {
   "cell_type": "code",
   "execution_count": 27,
   "outputs": [
    {
     "data": {
      "text/plain": "0.6257642173514324"
     },
     "execution_count": 27,
     "metadata": {},
     "output_type": "execute_result"
    }
   ],
   "source": [
    "score_basic_kmeans(final_data_np, \"k-means++\")"
   ],
   "metadata": {
    "collapsed": false,
    "pycharm": {
     "name": "#%%\n"
    }
   }
  },
  {
   "cell_type": "code",
   "execution_count": 28,
   "outputs": [
    {
     "data": {
      "text/plain": "0.60948362454602"
     },
     "execution_count": 28,
     "metadata": {},
     "output_type": "execute_result"
    }
   ],
   "source": [
    "score_basic_kmeans(final_data_np, \"random\")"
   ],
   "metadata": {
    "collapsed": false,
    "pycharm": {
     "name": "#%%\n"
    }
   }
  },
  {
   "cell_type": "code",
   "execution_count": 29,
   "outputs": [],
   "source": [
    "def get_random(X, n_clusters, random_state):\n",
    "    X = np.array(X)\n",
    "    res = [[random.uniform(min(list(X[:, i])), max(list(X[:, i]))) for j in range(n_clusters)] for i in range(X.shape[1])]\n",
    "    return np.stack(res, axis=1)"
   ],
   "metadata": {
    "collapsed": false,
    "pycharm": {
     "name": "#%%\n"
    }
   }
  },
  {
   "cell_type": "code",
   "execution_count": 30,
   "outputs": [
    {
     "data": {
      "text/plain": "0.6232743504859614"
     },
     "execution_count": 30,
     "metadata": {},
     "output_type": "execute_result"
    }
   ],
   "source": [
    "score_basic_kmeans(final_data_np, get_random)"
   ],
   "metadata": {
    "collapsed": false,
    "pycharm": {
     "name": "#%%\n"
    }
   }
  },
  {
   "cell_type": "markdown",
   "source": [
    "Dane które mają % daily value przeskalować przez 100, Calories, Sugar, Protein - znaleźć dane o dziennym spożyciu i podzielić xD"
   ],
   "metadata": {
    "collapsed": false,
    "pycharm": {
     "name": "#%% md\n"
    }
   }
  },
  {
   "cell_type": "code",
   "execution_count": 31,
   "outputs": [],
   "source": [
    "scaler = StandardScaler()\n",
    "scaled_data = scaler.fit_transform(final_data_np)"
   ],
   "metadata": {
    "collapsed": false,
    "pycharm": {
     "name": "#%%\n"
    }
   }
  },
  {
   "cell_type": "code",
   "execution_count": 32,
   "outputs": [
    {
     "data": {
      "text/plain": "1.1101246319341047"
     },
     "execution_count": 32,
     "metadata": {},
     "output_type": "execute_result"
    }
   ],
   "source": [
    "score_basic_kmeans(scaled_data, \"random\")"
   ],
   "metadata": {
    "collapsed": false,
    "pycharm": {
     "name": "#%%\n"
    }
   }
  },
  {
   "cell_type": "code",
   "execution_count": 33,
   "outputs": [],
   "source": [
    "NUM_ATTEMPTS = 5\n",
    "NUM_CLUSTERS = 5\n",
    "NUM_ITER = 50\n",
    "\n",
    "def assess_method(data_sample, method):\n",
    "    scores = []\n",
    "\n",
    "    for sample in range(NUM_ATTEMPTS):\n",
    "        print('\\nCentroid attempt: ', sample)\n",
    "        km = KMeans(n_clusters=NUM_CLUSTERS, init=method, max_iter=1, n_init=1)#, verbose=1)\n",
    "        km.fit(data_sample)\n",
    "        scores.append([])\n",
    "        cents = km.cluster_centers_\n",
    "\n",
    "        for iter in range(NUM_ITER):\n",
    "            km = KMeans(n_clusters=NUM_CLUSTERS, init=cents, max_iter=1, n_init=1)\n",
    "            km.fit(data_sample)\n",
    "            scores[sample].append(davies_bouldin_score(data_sample, km.labels_))\n",
    "            cents = km.cluster_centers_\n",
    "    return np.array(scores)"
   ],
   "metadata": {
    "collapsed": false,
    "pycharm": {
     "name": "#%%\n"
    }
   }
  },
  {
   "cell_type": "code",
   "execution_count": 34,
   "outputs": [
    {
     "name": "stdout",
     "output_type": "stream",
     "text": [
      "\n",
      "Centroid attempt:  0\n",
      "\n",
      "Centroid attempt:  1\n",
      "\n",
      "Centroid attempt:  2\n",
      "\n",
      "Centroid attempt:  3\n",
      "\n",
      "Centroid attempt:  4\n",
      "(5, 50)\n"
     ]
    }
   ],
   "source": [
    "assessment = assess_method(final_data, \"random\")\n",
    "print(assessment.shape)"
   ],
   "metadata": {
    "collapsed": false,
    "pycharm": {
     "name": "#%%\n"
    }
   }
  },
  {
   "cell_type": "code",
   "execution_count": 111,
   "outputs": [],
   "source": [
    "def plot_assessment(assessment, xlabel=\"iteration\", ylabel=\"davies_bouldin_score\"):\n",
    "    assessment = assessment.T\n",
    "    stds = [np.std(res) for res in assessment]\n",
    "    means = [np.mean(res) for res in assessment]\n",
    "    plt.bar(range(assessment.shape[0]), means, yerr=stds, align='center', alpha=0.5, ecolor='black', capsize=3)\n",
    "    # plt.xticks(range(assessment.shape[1]))\n",
    "    plt.xlabel(xlabel)\n",
    "    plt.ylabel(ylabel)\n",
    "    plt.savefig(f'method_assessment_{xlabel}')"
   ],
   "metadata": {
    "collapsed": false,
    "pycharm": {
     "name": "#%%\n"
    }
   }
  },
  {
   "cell_type": "code",
   "execution_count": 112,
   "outputs": [
    {
     "data": {
      "text/plain": "<Figure size 432x288 with 1 Axes>",
      "image/png": "[encoded data removed]"
     },
     "metadata": {
      "needs_background": "light"
     },
     "output_type": "display_data"
    }
   ],
   "source": [
    "plot_assessment(assessment)"
   ],
   "metadata": {
    "collapsed": false,
    "pycharm": {
     "name": "#%%\n"
    }
   }
  },
  {
   "cell_type": "code",
   "execution_count": 37,
   "outputs": [],
   "source": [
    "best_method = \"random\"\n",
    "def assess_k(data, ns_clusters, repetitions):\n",
    "    k_scores = []\n",
    "    for k in range(len(ns_clusters)):\n",
    "        k_scores.append([])\n",
    "        for i in range(repetitions):\n",
    "            kmeans = KMeans(n_clusters=ns_clusters[k], init=best_method)\n",
    "            kmeans.fit(data)\n",
    "            k_scores[k].append(davies_bouldin_score(data, kmeans.labels_))\n",
    "        k_scores[k] = np.array(k_scores[k])\n",
    "    return np.array(k_scores)"
   ],
   "metadata": {
    "collapsed": false,
    "pycharm": {
     "name": "#%%\n"
    }
   }
  },
  {
   "cell_type": "code",
   "execution_count": 38,
   "outputs": [
    {
     "name": "stdout",
     "output_type": "stream",
     "text": [
      "[[0.72295101 0.71913709 0.71913709 0.71913709 0.7239214 ]\n",
      " [0.73675683 0.73959068 0.73959068 0.73959068 0.73959068]\n",
      " [0.74158341 0.74158341 0.74158341 0.74158341 0.60948362]\n",
      " [0.83304884 0.68725074 0.83083882 0.74581917 0.68667744]\n",
      " [0.77155062 0.84882392 0.7772173  0.80362419 0.7722459 ]\n",
      " [0.77637794 0.81448823 0.81022091 0.68088585 0.90417929]\n",
      " [0.89419388 0.88991669 0.88452951 0.89775247 0.87342344]\n",
      " [1.07692389 0.85156887 0.92950805 0.84614949 0.99860952]\n",
      " [0.9070584  0.86729665 0.93814289 0.91124773 0.91924068]\n",
      " [0.84907877 0.86926415 0.90188883 0.82778687 0.86740361]\n",
      " [0.87098788 0.81867234 0.89188561 0.86580279 1.03171142]\n",
      " [0.83081289 0.87192983 1.01275263 0.97617922 0.88523248]\n",
      " [0.95143592 0.95442246 1.03336107 0.89237388 0.95147171]\n",
      " [0.88766547 0.91606621 0.92731488 1.02149167 0.9287104 ]\n",
      " [0.90904996 0.93355706 1.01523545 0.88939027 0.90940153]\n",
      " [0.86846011 0.89809229 0.91188866 0.88121127 0.90992972]\n",
      " [0.92560365 0.85817729 1.00130734 0.87902992 1.08229871]\n",
      " [0.85469632 0.89052259 0.92921049 0.94470914 0.8641617 ]\n",
      " [0.90443934 0.98974689 0.88551633 0.9588624  0.87707805]\n",
      " [0.94293957 0.92448208 0.9185564  0.9464064  0.9611747 ]\n",
      " [0.98001632 0.89600705 0.9622168  0.90307163 0.81155105]\n",
      " [0.87353734 0.93269511 0.83474874 1.0139936  0.91249954]]\n"
     ]
    }
   ],
   "source": [
    "k_range = range(3, 25)\n",
    "k_assessment = assess_k(final_data, k_range, 5)\n",
    "print(k_assessment)"
   ],
   "metadata": {
    "collapsed": false,
    "pycharm": {
     "name": "#%%\n"
    }
   }
  },
  {
   "cell_type": "code",
   "execution_count": 113,
   "outputs": [],
   "source": [
    "def plot_k_assessment(assessment, k_range):\n",
    "    stds = [np.std(res) for res in assessment]\n",
    "    means = [np.mean(res) for res in assessment]\n",
    "    plt.bar(k_range, means, yerr=stds, align='center', alpha=0.5, ecolor='black', capsize=3)\n",
    "    plt.xticks(k_range)\n",
    "    plt.xlabel(\"k\")\n",
    "    plt.ylabel(\"davies_bouldin_score\")\n",
    "    plt.savefig(f'k_assessment_{k_range}')"
   ],
   "metadata": {
    "collapsed": false,
    "pycharm": {
     "name": "#%%\n"
    }
   }
  },
  {
   "cell_type": "code",
   "execution_count": 110,
   "outputs": [
    {
     "data": {
      "text/plain": "<Figure size 432x288 with 1 Axes>",
      "image/png": "[encoded data removed]"
     },
     "metadata": {
      "needs_background": "light"
     },
     "output_type": "display_data"
    }
   ],
   "source": [
    "plot_k_assessment(k_assessment, k_range)"
   ],
   "metadata": {
    "collapsed": false,
    "pycharm": {
     "name": "#%%\n"
    }
   }
  },
  {
   "cell_type": "code",
   "execution_count": 41,
   "outputs": [],
   "source": [
    "def get_res(data, method, n_clusters):\n",
    "    kmeans = KMeans(n_clusters=n_clusters, init=method)\n",
    "    kmeans.fit(data)\n",
    "    return kmeans.labels_, kmeans.cluster_centers_"
   ],
   "metadata": {
    "collapsed": false,
    "pycharm": {
     "name": "#%%\n"
    }
   }
  },
  {
   "cell_type": "code",
   "execution_count": 89,
   "outputs": [],
   "source": [
    "BEST_K = 5"
   ],
   "metadata": {
    "collapsed": false,
    "pycharm": {
     "name": "#%%\n"
    }
   }
  },
  {
   "cell_type": "code",
   "execution_count": 88,
   "outputs": [],
   "source": [
    "data = pd.read_csv('menu.csv')\n",
    "\n",
    "distinct_categories = list(set(data['Category']))\n",
    "COLOR_NUM = max(BEST_K, len(distinct_categories))\n",
    "colors = []\n",
    "\n",
    "for i in range(COLOR_NUM):\n",
    "    colors.append('#%06X' % random.randint(0, 0xFFFFFF))"
   ],
   "metadata": {
    "collapsed": false,
    "pycharm": {
     "name": "#%%\n"
    }
   }
  },
  {
   "cell_type": "code",
   "execution_count": 93,
   "outputs": [],
   "source": [
    "labels, centers = get_res(final_data_np, \"random\", BEST_K)\n",
    "label_colors = [colors[label] for label in labels]"
   ],
   "metadata": {
    "collapsed": false,
    "pycharm": {
     "name": "#%%\n"
    }
   }
  },
  {
   "cell_type": "code",
   "execution_count": 117,
   "outputs": [
    {
     "data": {
      "text/plain": "<Figure size 720x540 with 1 Axes>",
      "image/png": "[encoded data removed]"
     },
     "metadata": {
      "needs_background": "light"
     },
     "output_type": "display_data"
    }
   ],
   "source": [
    "pca = PCA(n_components=2)\n",
    "transformed_data = pca.fit_transform(final_data_np)\n",
    "transformed_centers = pca.fit_transform(centers)\n",
    "fig=plt.figure(figsize=(10, 7.5))\n",
    "plt.scatter(transformed_data[:,0], transformed_data[:, 1], c=label_colors, s=10)\n",
    "plt.scatter(centers[:,0], centers[:, 1], c=colors[:BEST_K])\n",
    "\n",
    "recs = []\n",
    "for i in range(BEST_K):\n",
    "    recs.append(mpatches.Rectangle((0,0),1,1,fc=colors[i]))\n",
    "\n",
    "plt.legend(recs, range(1, BEST_K + 1), loc='lower right')\n",
    "plt.xlabel('principal component 1')\n",
    "plt.ylabel('principal component 2')\n",
    "plt.savefig('cluters_pca')"
   ],
   "metadata": {
    "collapsed": false,
    "pycharm": {
     "name": "#%%\n"
    }
   }
  },
  {
   "cell_type": "code",
   "execution_count": 74,
   "outputs": [],
   "source": [],
   "metadata": {
    "collapsed": false,
    "pycharm": {
     "name": "#%%\n"
    }
   }
  },
  {
   "cell_type": "code",
   "execution_count": 91,
   "outputs": [],
   "source": [
    "category_colors = [colors[distinct_categories.index(category)] for category in data['Category']]"
   ],
   "metadata": {
    "collapsed": false,
    "pycharm": {
     "name": "#%%\n"
    }
   }
  },
  {
   "cell_type": "code",
   "execution_count": 116,
   "outputs": [
    {
     "data": {
      "text/plain": "<Figure size 720x540 with 1 Axes>",
      "image/png": "[encoded data removed]"
     },
     "metadata": {
      "needs_background": "light"
     },
     "output_type": "display_data"
    }
   ],
   "source": [
    "fig=plt.figure(figsize=(10, 7.5))\n",
    "plt.scatter(transformed_data[:,0], transformed_data[:, 1], c=category_colors)\n",
    "recs = []\n",
    "for i in range(len(distinct_categories)):\n",
    "    recs.append(mpatches.Rectangle((0,0),1,1,fc=colors[i]))\n",
    "plt.legend(recs, distinct_categories, loc='lower right')\n",
    "plt.xlabel('principal component 1')\n",
    "plt.ylabel('principal component 2')\n",
    "plt.savefig('categories')\n",
    "\n",
    "#TODO: colors on graph, data preparation"
   ],
   "metadata": {
    "collapsed": false,
    "pycharm": {
     "name": "#%%\n"
    }
   }
  }
 ],
 "metadata": {
  "kernelspec": {
   "display_name": "Python 3",
   "language": "python",
   "name": "python3"
  },
  "language_info": {
   "codemirror_mode": {
    "name": "ipython",
    "version": 2
   },
   "file_extension": ".py",
   "mimetype": "text/x-python",
   "name": "python",
   "nbconvert_exporter": "python",
   "pygments_lexer": "ipython2",
   "version": "2.7.6"
  }
 },
 "nbformat": 4,
 "nbformat_minor": 0
}